{
 "cells": [
  {
   "cell_type": "markdown",
   "metadata": {},
   "source": [
    "# Introduction to Logistic Regression in PyTorch"
   ]
  },
  {
   "cell_type": "markdown",
   "metadata": {},
   "source": [
    "In this notebook, we're going to build a very simple neural network in PyTorch to do handwritten digit classification.\n",
    "First, we'll start with some exploration of the MNIST dataset, explaining how we load and format the data.\n",
    
   ]
  },
  {
   "cell_type": "code",
   "execution_count": 1,
   "metadata": {},
   "outputs": [],
   "source": [
    "%matplotlib inline\n",
    "\n",
    "import numpy as np\n",
    "import matplotlib.pyplot as plt\n",
    "import torch\n",
    "from tqdm.notebook import tqdm"
   ]
  },
  {
   "cell_type": "markdown",
   "metadata": {},
   "source": [
    "### MNIST Dataset"
   ]
  },
  {
   "cell_type": "markdown",
   "metadata": {},
   "source": [
    "The MNIST dataset is very popular machine learning dataset, consisting of 70000 grayscale images of handwritten digits, of dimensions 28x28. \n",
    "We'll be using it as our example dataset for this section of the tutorial, with the goal being to predict which digit is in each image.\n",
    "\n",
    "![mnist](Figures/mnist.png)\n",
    "\n",
    "The first (and often most important) step in machine learning is preparing the data.\n",
    "This can include downloading, organizing, formatting, shuffling, pre-processing, augmenting, and batching examples so that they can be fed to a model.\n",
    "The `torchvision` package makes this easy by implementing many of these, allowing us to put these datasets into a usable form in only a few lines of code.\n",
    "So, first, let's download the train and test sets of MNIST:"
   ]
  },
  {
   "cell_type": "code",
   "execution_count": 2,
   "metadata": {},
   "outputs": [],
   "source": [
    "from torchvision import datasets, transforms\n",
    "\n",
    "mnist_train = datasets.MNIST(root=\"./datasets\", train=True, transform=transforms.ToTensor(), download=True)\n",
    "mnist_test = datasets.MNIST(root=\"./datasets\", train=False, transform=transforms.ToTensor(), download=True)"
   ]
  },
  {
   "cell_type": "code",
   "execution_count": 6,
   "metadata": {},
   "outputs": [
    {
     "name": "stdout",
     "output_type": "stream",
     "text": [
      "Number of MNIST training examples: 60000\n",
      "Number of MNIST test examples: 10000\n"
     ]
    }
   ],
   "source": [
    "print(\"Number of MNIST training examples: {}\".format(len(mnist_train)))\n",
    "print(\"Number of MNIST test examples: {}\".format(len(mnist_test)))\n"
   ]
  },
  {
   "cell_type": "markdown",
   "metadata": {},
   "source": [
    "As we'd expect, 60000 of the MNIST examples are in the train set, and the rest are in the test set.\n",
    "We added the transform `ToTensor()` when formatting the dataset, to convert the input data from a Pillow `Image` type into a PyTorch `Tensor`. Tensors will eventually be the input type that we feed into our model. \n",
    "\n",
    "Let's look at an example image from the train set and its label.\n",
    
    "The \"1\" in the first dimension indicates that the image only has one channel (i.e. grayscale).\n",
    "We need to get rid of this to visualize the image with `imshow`."
   ]
  },
  {
   "cell_type": "code",
   "execution_count": 14,
   "metadata": {
    "scrolled": false
   },
   "outputs": [
    {
     "name": "stdout",
     "output_type": "stream",
     "text": [
      "Default image shape: torch.Size([1, 28, 28])\n",
      "Reshaped image shape: torch.Size([28, 28])\n",
      "The label for this image: 1\n"
     ]
    },
    {
     "data": {
      "image/png": "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\n",
      "text/plain": [
       "<Figure size 432x288 with 1 Axes>"
      ]
     },
     "metadata": {
      "needs_background": "light"
     },
     "output_type": "display_data"
    }
   ],
   "source": [
    "# Pick out the 4th (0-indexed) example from the training set\n",
    "image, label = mnist_train[3]\n",
    "\n",
    "# Plot the image\n",
    "print(\"Default image shape: {}\".format(image.shape))\n",
    "image = image.reshape([28,28])\n",
    "print(\"Reshaped image shape: {}\".format(image.shape))\n",
    "plt.imshow(image, cmap=\"gray\")\n",
    "\n",
    "# Print the label\n",
    "print(\"The label for this image: {}\".format(label))"
   ]
  },
  {
   "cell_type": "markdown",
   "metadata": {},
   "source": [
    "While we could work directly with the data as a `torchvision.dataset`, we'll find it useful to use a `DataLoader`, which will take care of shuffling and batching:"
   ]
  },
  {
   "cell_type": "code",
   "execution_count": 15,
   "metadata": {},
   "outputs": [],
   "source": [
    "train_loader = torch.utils.data.DataLoader(mnist_train, batch_size=100, shuffle=True)\n",
    "test_loader = torch.utils.data.DataLoader(mnist_test, batch_size=100, shuffle=False)"
   ]
  },
  {
   "cell_type": "markdown",
   "metadata": {},
   "source": [
    "An example of a minibatch drawn from a `DataLoader`:"
   ]
  },
  {
   "cell_type": "code",
   "execution_count": 16,
   "metadata": {
    "scrolled": true
   },
   "outputs": [
    {
     "name": "stdout",
     "output_type": "stream",
     "text": [
      "Shape of the minibatch of images: torch.Size([100, 1, 28, 28])\n",
      "Shape of the minibatch of labels: torch.Size([100])\n"
     ]
    }
   ],
   "source": [
    "data_train_iter = iter(train_loader)\n",
    "images, labels = data_train_iter.next()\n",
    "\n",
    "print(\"Shape of the minibatch of images: {}\".format(images.shape))\n",
    "print(\"Shape of the minibatch of labels: {}\".format(labels.shape))"
   ]
  },
  {
   "cell_type": "markdown",
   "metadata": {},
   "source": [
    "### Logistic Regression Model"
   ]
  },
  {
   "cell_type": "markdown",
   "metadata": {},
   "source": [
    "Now that we have a good feel for how to load our data, let's start putting together our model. \n",
    "In this tutorial, we'll be building a logistic regression model, which is essentially a fully-connected neural network without any hidden layers. \n",
    "While fairly basic, logistic regression can perform surprisingly well on many simple classification tasks.\n",
    "\n",
    "#### The forward pass\n",
    "\n",
    "While our data inputs (which we'll call `x`) are images (i.e. 2-dimensional), MNIST digits are pretty small, and the model we're using is very simple.\n",
    "Thus, we're going to be treating the input as flat vectors.\n",
    "To convert our inputs into row vectors (a.k.a. flattening), we can use `view()`, the equivalent of NumPy's `reshape()`.\n",
    "Also like NumPy, we can replace one of the dimensions of the reshaping with a `-1`, which tells PyTorch to infer this dimension based on the original dimensions and the other specified dimensions.\n",
    "Let's do try this flattening on the minibatch of 100 images we drew in the previous section."
   ]
  },
  {
   "cell_type": "code",
   "execution_count": 17,
   "metadata": {},
   "outputs": [
    {
     "name": "stdout",
     "output_type": "stream",
     "text": [
      "The shape of input x: torch.Size([100, 784])\n"
     ]
    }
   ],
   "source": [
    "x = images.view(-1, 28*28)\n",
    "print(\"The shape of input x: {}\".format(x.shape))"
   ]
  },
  {
   "cell_type": "markdown",
   "metadata": {},
   "source": [
    "To get our predicted probabilities of each digit, let's first start with the probability of a digit being a 1 like the image above. \n",
    "For our simple model, we can start by applying a linear transformation. \n",
    "That is, we multiply each pixel $x_i$ of the input row vector by a weight $w_{i,1}$, sum them all together, and then add a bias $b_1$.\n",
    "This is equivalent to a dot product between the class \"1\" weights and the input:\n",
    "\n",
    "\\begin{align}\n",
    "y_1 = \\sum_i x_i w_{i,1} + b_1\n",
    "\\end{align}\n",
    "\n",
    "The magnitude of this result $y_1$, we'll take as being correlated to our belief in how likely we think the input digit was a 1. \n",
    "The higher the value of $y_1$, the more likely we think the input image $x$ was a 1 (i.e., we'd hope we'd get a relatively large value for $y_1$ for the above image). \n",
    "Remember though, our original goal was to identify all 10 digits, so we actually have:\n",
    "\n",
    "\\begin{align*}\n",
    "y_0 =& \\sum_i x_i w_{i,0} + b_0 \\\\\n",
    "y_1 =& \\sum_i x_i w_{i,1} + b_1 \\\\\n",
    "y_2 =& \\sum_i x_i w_{i,2} + b_2 \\\\\n",
    "y_3 =& \\sum_i x_i w_{i,3} + b_3 \\\\\n",
    "y_4 =& \\sum_i x_i w_{i,4} + b_4 \\\\\n",
    "y_5 =& \\sum_i x_i w_{i,5} + b_5 \\\\\n",
    "y_6 =& \\sum_i x_i w_{i,6} + b_6 \\\\\n",
    "y_7 =& \\sum_i x_i w_{i,7} + b_7 \\\\\n",
    "y_8 =& \\sum_i x_i w_{i,8} + b_8 \\\\\n",
    "y_9 =& \\sum_i x_i w_{i,9} + b_9\n",
    "\\end{align*}\n",
    "\n",
    "We can express this in matrix form as:\n",
    "\n",
    "\\begin{align}\n",
    "y = x W + b \n",
    "\\end{align}\n",
    "\n",
    "To take advantage of parallel computation, we commonly process multiple inputs $x$ at once, in a minibatch.\n",
    "We can stack each input $x$ into a matrix $X$, giving us \n",
    "\n",
    "\\begin{align}\n",
    "Y = X W + b \n",
    "\\end{align}\n",
    "\n",
    "Visualizing the dimensions:\n",
    "\n",
    "<img src=\"Figures/mnist_matmul.PNG\" width=\"500\"/>\n",
    "\n",
    "In our specific example, the minibatch size $m$ is $100$, the dimension of the data is $28 \\times 28=784$, and the number of classes $c$ is $10$.\n",
    "While $X$ and $Y$ are matrices due to the batching, conventionally, they are often given lowercase variable names, as if they were for a single example.\n",
    "We will use `x` and `y` throughout."
   ]
  },
  {
   "cell_type": "markdown",
   "metadata": {},
   "source": [
    "The weight $W$ and bias $b$ make up the parameters of this model.\n",
    "When we say that we want to \"learn the model,\" what we're really trying to do is find good values for every element in $W$ and $b$.\n",
    "Before we begin learning, we need to initialize our parameters to some value, as a starting point.\n",
    "Here, we don't really know what the best values are, so we going to initialize $W$ randomly (using something called [Xavier initialization](http://proceedings.mlr.press/v9/glorot10a.html)), and set $b$ to a vector of zeros."
   ]
  },
  {
   "cell_type": "code",
   "execution_count": 18,
   "metadata": {},
   "outputs": [],
   "source": [
    "# Randomly initialize weights W\n",
    "W = torch.randn(784, 10)/np.sqrt(784)\n",
    "W.requires_grad_()\n",
    "\n",
    "# Initialize bias b as 0s\n",
    "b = torch.zeros(10, requires_grad=True)"
   ]
  },
  {
   "cell_type": "markdown",
   "metadata": {},
   "source": [
    "As both `W` and `b` are parameters we wish to learn, we set `requires_grad` to `True`. \n",
    "This tells PyTorch's autograd to track the gradients for these two variables, and all the variables depending on `W` and `b`.\n",
    "\n",
    "With these model parameters, we compute $y$:"
   ]
  },
  {
   "cell_type": "code",
   "execution_count": 19,
   "metadata": {},
   "outputs": [],
   "source": [
    "# Linear transformation with W and b\n",
    "y = torch.matmul(x, W) + b"
   ]
  },
  {
   "cell_type": "markdown",
   "metadata": {},
   "source": [
    "We can see for example what the predictions look like for the first example in our minibatch. Remember, the bigger the number, the more the model thinks the input $x$ is of that class."
   ]
  },
  {
   "cell_type": "code",
   "execution_count": 20,
   "metadata": {
    "scrolled": true
   },
   "outputs": [
    {
     "name": "stdout",
     "output_type": "stream",
     "text": [
      "tensor([ 0.3397,  0.0773, -0.0871,  0.1753,  0.1926,  0.2179, -0.2704, -0.5329,\n",
      "        -0.7415, -0.1144], grad_fn=<SliceBackward>)\n"
     ]
    }
   ],
   "source": [
    "print(y[0,:])"
   ]
  },
  {
   "cell_type": "markdown",
   "metadata": {},
   "source": [
    "We can interpret these values (aka logits) $y$ as probabilities if we normalize them to be positive and add up to 1. In logistic regression, we do this with a softmax:\n",
    "\n",
    "\\begin{align}\n",
    "p(y_i) = \\text{softmax}(y_i) = \\frac{\\text{exp}(y_i)}{\\sum_j\\text{exp}(y_j)}\n",
    "\\end{align}\n",
    "\n",
    "Notice that because the range of the exponential function is always non-negative, and since we're normalizing by the sum, the softmax achieves the desired property of producing values between 0 and 1 that sum to 1. If we look at the case with only 2 classes, we see that the softmax is the multi-class extension of the binary sigmoid function: \n",
    "\n",
    "<img src=\"Figures/Logistic-curve.png\" width=\"300\"/>\n",
    "\n",
    "We can compute the softmax ourselves using the above formula if we'd like, but PyTorch already has the softmax function in `torch.nn.functional`:"
   ]
  },
  {
   "cell_type": "code",
   "execution_count": 21,
   "metadata": {},
   "outputs": [
    {
     "name": "stdout",
     "output_type": "stream",
     "text": [
      "py[0] from equation: tensor([0.1438, 0.1106, 0.0938, 0.1220, 0.1241, 0.1273, 0.0781, 0.0601, 0.0488,\n",
      "        0.0913], grad_fn=<SelectBackward>)\n",
      "py[0] with torch.nn.functional.softmax: tensor([0.1438, 0.1106, 0.0938, 0.1220, 0.1241, 0.1273, 0.0781, 0.0601, 0.0488,\n",
      "        0.0913], grad_fn=<SelectBackward>)\n"
     ]
    }
   ],
   "source": [
    "# Option 1: Softmax to probabilities from equation\n",
    "py_eq = torch.exp(y) / torch.sum(torch.exp(y), dim=1, keepdim=True)\n",
    "print(\"py[0] from equation: {}\".format(py_eq[0]))\n",
    "\n",
    "# Option 2: Softmax to probabilities with torch.nn.functional\n",
    "import torch.nn.functional as F\n",
    "py = F.softmax(y, dim=1)\n",
    "print(\"py[0] with torch.nn.functional.softmax: {}\".format(py[0]))"
   ]
  },
  {
   "cell_type": "markdown",
   "metadata": {},
   "source": [
    "We've now defined the forward pass of our model: given an input image, the graph returns the probabilities the model thinks the input is each of the 10 classes. Are we done?"
   ]
  },
  {
   "cell_type": "markdown",
   "metadata": {},
   "source": [
    "#### The cross-entropy loss\n",
    "\n",
    "This tutorial isn't done yet, so you can probably guess that the answer is not quite. \n",
    "We don't know the values of $W$ and $b$ yet! \n",
    "Remember how we initialized them randomly? \n",
    "Before we adjust any of the weights, we need a way to measure how the model is doing.\n",
    "Specifically, we're going to measure how badly the model is doing.\n",
    "We do this with a *loss* function, which takes the model's prediction and returns a single number (i.e. a scalar) summarizing model performance.\n",
    "This loss will inform how we adjust the parameters of the model.\n",
    "\n",
    "The loss we commonly use in classification is cross-entropy, a concept from information theory.\n",
    "Explaining exactly what the cross-entropy represents goes slightly beyond the scope of this course, but you can think of it as a way of quantifying how far apart one distribution $y'$ is from another $y$.\n",
    "\n",
    "\\begin{align}\n",
    "H_{y'}(y)=-\\sum_i y'_i \\text{log}(y_i)\n",
    "\\end{align}\n",
    "\n",
    "In our case, $y$ is the set of probabilities predicted by the model ($py$ above); $y'$ is the target distribution.\n",
    "What is the target distribution?\n",
    "It's the true label, which is what we wanted the model to predict.\n",
    "\n",
    "Cross-entropy not only captures how *correct* (max probability corresponds to the right answer) the model's answers are, it also accounts for how *confident* (high confidence in correct answers) they are. This encourages the model to produce very high probabilities for correct answers while driving down the probabilities for the wrong answers, instead of merely being satisfied with it being the argmax. \n",
    "\n",
    "We focus here on supervised learning, a setting in which we have the labels.\n",
    "Our `DataLoader` automatically includes the corresponding labels for each of our inputs.\n",
    "Here are the labels from the first time we retrieved a minibatch:"
   ]
  },
  {
   "cell_type": "code",
   "execution_count": 22,
   "metadata": {},
   "outputs": [
    {
     "name": "stdout",
     "output_type": "stream",
     "text": [
      "torch.Size([100])\n"
     ]
    }
   ],
   "source": [
    "print(labels.shape)"
   ]
  },
  {
   "cell_type": "markdown",
   "metadata": {},
   "source": [
    "Like the softmax operation, we can implement the cross-entropy directly from the equation, using the softmax output.\n",
    "However, as with the softmax, `torch.nn.functional` already has the cross-entropy loss implemented as well."
   ]
  },
  {
   "cell_type": "code",
   "execution_count": 23,
   "metadata": {},
   "outputs": [
    {
     "name": "stdout",
     "output_type": "stream",
     "text": [
      "cross entropy from equation: 2.415476083755493\n",
      "cross entropy with torch.nn.functional.cross_entropy: 2.4154763221740723\n"
     ]
    }
   ],
   "source": [
    "# Cross-entropy loss from equation\n",
    "cross_entropy_eq = torch.mean(-torch.log(py_eq)[range(labels.shape[0]),labels])\n",
    "print(\"cross entropy from equation: {}\".format(cross_entropy_eq))\n",
    "\n",
    "# Option 2: cross-entropy loss with torch.nn.functional\n",
    "cross_entropy = F.cross_entropy(y, labels)\n",
    "print(\"cross entropy with torch.nn.functional.cross_entropy: {}\".format(cross_entropy))"
   ]
  },
  {
   "cell_type": "markdown",
   "metadata": {},
   "source": [
    "Note that PyTorch's cross-entropy loss combines the softmax operator and cross-entropy into a single operation, for numerical stability reasons.\n",
    "Don't do the softmax twice!\n",
    "Make sure to feed in the pre-softmax logits `y`, not the post-softmax probabilities `py`."
   ]
  },
  {
   "cell_type": "markdown",
   "metadata": {},
   "source": [
    "#### The backwards pass\n",
    "\n",
    "Now that we have the loss as a way of quantifying how badly the model is doing, we can improve our model by changing the parameters in a way that minimizes the loss.\n",
    "For neural networks, the common way of doing this is with backpropagation: we take the gradient of the loss with respect to $W$ and $b$ and take a step in the direction that reduces our loss.\n",
    "\n",
    "If we were not using a deep learning framework like PyTorch, we would have to go through and derive all the gradients ourselves by hand, then code them into our program. \n",
    "We certainly still could.\n",
    "However, with modern auto-differentiation libraries, it's much faster and easier to let the computer do it.\n",
    "\n",
    "First, we need to create an optimizer.\n",
    "There are many choices, but since logistic regression is fairly simple, we'll use standard stochastic gradient descent (SGD), which makes the following update:\n",
    "\n",
    "\\begin{align}\n",
    "\\theta_{t+1} = \\theta_t - \\alpha \\nabla_\\theta \\mathcal{L}\n",
    "\\end{align}\n",
    "\n",
    "where $\\theta$ is a parameter, $\\alpha$ is our learning rate (step size), and $\\nabla_\\theta \\mathcal{L}$ is the gradient of our loss with respect to $\\theta$."
   ]
  },
  {
   "cell_type": "code",
   "execution_count": 24,
   "metadata": {},
   "outputs": [],
   "source": [
    "# Optimizer\n",
    "optimizer = torch.optim.SGD([W,b], lr=0.1)"
   ]
  },
  {
   "cell_type": "markdown",
   "metadata": {},
   "source": [
    "When we created our parameters $W$ and $b$, we indicated that they require gradients.\n",
    "To compute the gradients for $W$ and $b$, we call the `backward()` function on the cross-entropy loss."
   ]
  },
  {
   "cell_type": "code",
   "execution_count": 25,
   "metadata": {},
   "outputs": [],
   "source": [
    "cross_entropy.backward()"
   ]
  },
  {
   "cell_type": "markdown",
   "metadata": {},
   "source": [
    "Each of the variables that required gradients have now accumulated gradients.\n",
    "We can see these for example on `b`:"
   ]
  },
  {
   "cell_type": "code",
   "execution_count": 26,
   "metadata": {
    "scrolled": true
   },
   "outputs": [
    {
     "data": {
      "text/plain": [
       "tensor([-3.1701e-02,  2.5600e-03, -1.3757e-02,  1.1383e-02,  5.3321e-02,\n",
       "         4.8921e-02, -8.0943e-03, -3.3120e-03, -5.9258e-02, -6.3593e-05])"
      ]
     },
     "execution_count": 26,
     "metadata": {},
     "output_type": "execute_result"
    }
   ],
   "source": [
    "b.grad"
   ]
  },
  {
   "cell_type": "markdown",
   "metadata": {},
   "source": [
    "To apply the gradients, we could manually update $W$ and $b$ using the update rule $\\theta_{t+1} = \\theta_t - \\alpha \\nabla_\\theta \\mathcal{L}$, but since we have an optimizer, we can tell it to perform the update step for us:"
   ]
  },
  {
   "cell_type": "code",
   "execution_count": 27,
   "metadata": {},
   "outputs": [],
   "source": [
    "optimizer.step()"
   ]
  },
  {
   "cell_type": "markdown",
   "metadata": {},
   "source": [
    "We set our learning rate to 0.1, so `b` has been updated by `-0.1*b.grad`:"
   ]
  },
  {
   "cell_type": "code",
   "execution_count": 28,
   "metadata": {
    "scrolled": false
   },
   "outputs": [
    {
     "data": {
      "text/plain": [
       "tensor([ 3.1701e-03, -2.5600e-04,  1.3757e-03, -1.1383e-03, -5.3321e-03,\n",
       "        -4.8921e-03,  8.0943e-04,  3.3120e-04,  5.9258e-03,  6.3593e-06],\n",
       "       requires_grad=True)"
      ]
     },
     "execution_count": 28,
     "metadata": {},
     "output_type": "execute_result"
    }
   ],
   "source": [
    "b"
   ]
  },
  {
   "cell_type": "markdown",
   "metadata": {},
   "source": [
    "We've now successfully trained on a minibatch!\n",
    "However, one minibatch probably isn't enough.\n",
    "At this point, we've trained the model on 100 examples out of the 60000 in the training set.\n",
    "We're going to need to repeat this process, for more of the data.\n",
    "\n",
    "One more thing to keep in mind though: gradients calculated by `backward()` don't override the old values; instead, they accumulate.\n",
    "Therefore, you'll want to clear the gradient buffers before you compute gradients for the next minibatch."
   ]
  },
  {
   "cell_type": "code",
   "execution_count": 29,
   "metadata": {},
   "outputs": [
    {
     "name": "stdout",
     "output_type": "stream",
     "text": [
      "b.grad before zero_grad(): tensor([-3.1701e-02,  2.5600e-03, -1.3757e-02,  1.1383e-02,  5.3321e-02,\n",
      "         4.8921e-02, -8.0943e-03, -3.3120e-03, -5.9258e-02, -6.3593e-05])\n",
      "b.grad after zero_grad(): tensor([0., 0., 0., 0., 0., 0., 0., 0., 0., 0.])\n"
     ]
    }
   ],
   "source": [
    "print(\"b.grad before zero_grad(): {}\".format(b.grad))\n",
    "optimizer.zero_grad()\n",
    "print(\"b.grad after zero_grad(): {}\".format(b.grad))"
   ]
  },
  {
   "cell_type": "markdown",
   "metadata": {},
   "source": [
    "#### Model Training"
   ]
  },
  {
   "cell_type": "markdown",
   "metadata": {},
   "source": [
    "To train the model, we just need repeat what we just did for more minibatches from the training set.\n",
    "As a recap, the steps were:\n",
    "1. Draw a minibatch\n",
    "2. Zero the gradients in the buffers for `W` and `b`\n",
    "3. Perform the forward pass (compute prediction, calculate loss)\n",
    "4. Perform the backward pass (compute gradients, perform SGD step)\n",
    "\n",
    "Going through the entire dataset once is referred to as an epoch.\n",
    "In many cases, we train neural networks for multiple epochs, but here, a single epoch is enough.\n",
    "We also wrap the train_loader with `tqdm`.\n",
    "This isn't neccessary, but it adds a handy progress bar so we can track our training progress."
   ]
  },
  {
   "cell_type": "code",
   "execution_count": 30,
   "metadata": {},
   "outputs": [
    {
     "data": {
      "application/vnd.jupyter.widget-view+json": {
       "model_id": "e1807fc567ea49c3a15e9f248340cc7c",
       "version_major": 2,
       "version_minor": 0
      },
      "text/plain": [
       "HBox(children=(FloatProgress(value=0.0, max=600.0), HTML(value='')))"
      ]
     },
     "metadata": {},
     "output_type": "display_data"
    },
    {
     "name": "stdout",
     "output_type": "stream",
     "text": [
      "\n"
     ]
    }
   ],
   "source": [
    "# Iterate through train set minibatchs \n",
    "for images, labels in tqdm(train_loader):\n",
    "    # Zero out the gradients\n",
    "    optimizer.zero_grad()\n",
    "    \n",
    "    # Forward pass\n",
    "    x = images.view(-1, 28*28)\n",
    "    y = torch.matmul(x, W) + b\n",
    "    cross_entropy = F.cross_entropy(y, labels)\n",
    "    # Backward pass\n",
    "    cross_entropy.backward()\n",
    "    optimizer.step()"
   ]
  },
  {
   "cell_type": "markdown",
   "metadata": {},
   "source": [
    "#### Testing"
   ]
  },
  {
   "cell_type": "markdown",
   "metadata": {},
   "source": [
    "Now let's see how we did! \n",
    "For every image in our test set, we run the data through the model, and take the digit in which we have the highest confidence as our answer. \n",
    "We then compute an accuracy by seeing how many we got correct.\n",
    "We're going to wrap evaluation with `torch.no_grad()`, as we're not interested in computing gradients during evaluation.\n",
    "By turning off the autograd engine, we can speed up evaluation."
   ]
  },
  {
   "cell_type": "code",
   "execution_count": 31,
   "metadata": {},
   "outputs": [
    {
     "data": {
      "application/vnd.jupyter.widget-view+json": {
       "model_id": "0d67b988094d4c99930871574e26aa15",
       "version_major": 2,
       "version_minor": 0
      },
      "text/plain": [
       "HBox(children=(FloatProgress(value=0.0), HTML(value='')))"
      ]
     },
     "metadata": {},
     "output_type": "display_data"
    },
    {
     "name": "stdout",
     "output_type": "stream",
     "text": [
      "\n",
      "Test accuracy: 0.9020000100135803\n"
     ]
    }
   ],
   "source": [
    "correct = 0\n",
    "total = len(mnist_test)\n",
    "\n",
    "with torch.no_grad():\n",
    "    # Iterate through test set minibatchs \n",
    "    for images, labels in tqdm(test_loader):\n",
    "        # Forward pass\n",
    "        x = images.view(-1, 28*28)\n",
    "        y = torch.matmul(x, W) + b\n",
    "        \n",
    "        predictions = torch.argmax(y, dim=1)\n",
    "        correct += torch.sum((predictions == labels).float())\n",
    "    \n",
    "print('Test accuracy: {}'.format(correct/total))"
   ]
  },
  {
   "cell_type": "markdown",
   "metadata": {},
   "source": [
    "Not bad for a simple model and a few lines of code.\n",
    "Before we conclude this example, there's one more interesting thing we can do. \n",
    "Normally, it can be difficult to inspect exactly what the filters in a model are doing, but since this model is so simple, and the weights transform the data directly to their logits, we can actually visualize what the model's learning by simply plotting the weights. \n",
    "The results look pretty reasonable:"
   ]
  },
  {
   "cell_type": "code",
   "execution_count": 32,
   "metadata": {
    "scrolled": true
   },
   "outputs": [
    {
     "data": {
      "image/png": "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\n",
      "text/plain": [
       "<Figure size 1440x144 with 10 Axes>"
      ]
     },
     "metadata": {
      "needs_background": "light"
     },
     "output_type": "display_data"
    }
   ],
   "source": [
    "# Get weights\n",
    "fig, ax = plt.subplots(1, 10, figsize=(20, 2))\n",
    "\n",
    "for digit in range(10):\n",
    "    ax[digit].imshow(W[:,digit].detach().view(28,28), cmap='gray')"
   ]
  },
  {
   "cell_type": "markdown",
   "metadata": {},
   "source": [
    "As we can see, the model learned a template for each digit.\n",
    "Remember that our model takes a dot product between the weights of each digit and input.\n",
    "Therefore, the more the input matches the template for a digit, the higher the value of the dot product for that digit will be, which makes the model more likely to predict that digit."
   ]
  },
  {
   "cell_type": "markdown",
   "metadata": {},
   "source": [
    "#### The Full Code"
   ]
  },
  {
   "cell_type": "markdown",
   "metadata": {},
   "source": [
    "The entire model, with the complete model definition, training, and evaluation (but minus the weights visualization) as independently runable code:"
   ]
  },
  {
   "cell_type": "code",
   "execution_count": 33,
   "metadata": {},
   "outputs": [
    {
     "data": {
      "application/vnd.jupyter.widget-view+json": {
       "model_id": "6364765f86044efab4c4c6033363eec1",
       "version_major": 2,
       "version_minor": 0
      },
      "text/plain": [
       "HBox(children=(FloatProgress(value=0.0, max=600.0), HTML(value='')))"
      ]
     },
     "metadata": {},
     "output_type": "display_data"
    },
    {
     "name": "stdout",
     "output_type": "stream",
     "text": [
      "\n"
     ]
    },
    {
     "data": {
      "application/vnd.jupyter.widget-view+json": {
       "model_id": "0fa100d263724b50a404578ef58b4932",
       "version_major": 2,
       "version_minor": 0
      },
      "text/plain": [
       "HBox(children=(FloatProgress(value=0.0), HTML(value='')))"
      ]
     },
     "metadata": {},
     "output_type": "display_data"
    },
    {
     "name": "stdout",
     "output_type": "stream",
     "text": [
      "\n",
      "Test accuracy: 0.904699981212616\n"
     ]
    }
   ],
   "source": [
    "import numpy as np\n",
    "import torch\n",
    "import torch.nn.functional as F\n",
    "from torchvision import datasets, transforms\n",
    "from tqdm.notebook import tqdm\n",
    "\n",
    "# Load the data\n",
    "mnist_train = datasets.MNIST(root=\"./datasets\", train=True, transform=transforms.ToTensor(), download=True)\n",
    "mnist_test = datasets.MNIST(root=\"./datasets\", train=False, transform=transforms.ToTensor(), download=True)\n",
    "train_loader = torch.utils.data.DataLoader(mnist_train, batch_size=100, shuffle=True)\n",
    "test_loader = torch.utils.data.DataLoader(mnist_test, batch_size=100, shuffle=False)\n",
    "\n",
    "## Training\n",
    "# Initialize parameters\n",
    "W = torch.randn(784, 10)/np.sqrt(784)\n",
    "W.requires_grad_()\n",
    "b = torch.zeros(10, requires_grad=True)\n",
    "\n",
    "# Optimizer\n",
    "optimizer = torch.optim.SGD([W,b], lr=0.1)\n",
    "\n",
    "# Iterate through train set minibatchs \n",
    "for images, labels in tqdm(train_loader):\n",
    "    # Zero out the gradients\n",
    "    optimizer.zero_grad()\n",
    "    \n",
    "    # Forward pass\n",
    "    x = images.view(-1, 28*28)\n",
    "    y = torch.matmul(x, W) + b\n",
    "    cross_entropy = F.cross_entropy(y, labels)\n",
    "    # Backward pass\n",
    "    cross_entropy.backward()\n",
    "    optimizer.step()\n",
    "\n",
    "## Testing\n",
    "correct = 0\n",
    "total = len(mnist_test)\n",
    "\n",
    "with torch.no_grad():\n",
    "    # Iterate through test set minibatchs \n",
    "    for images, labels in tqdm(test_loader):\n",
    "        # Forward pass\n",
    "        x = images.view(-1, 28*28)\n",
    "        y = torch.matmul(x, W) + b\n",
    "        \n",
    "        predictions = torch.argmax(y, dim=1)\n",
    "        correct += torch.sum((predictions == labels).float())\n",
    "    \n",
    "print('Test accuracy: {}'.format(correct/total))"
   ]
  },
  {
   "cell_type": "markdown",
   "metadata": {},
   "source": [
    "Note: The accuracy from the full version directly above might return a slightly different test accuracy from the step-by-step version we first went through. \n",
    "We trained our model with stochastic gradient descent (SGD), with the word \"stochastic\" highlighting that training is an inherently random process."
   ]
  },
  {
   "cell_type": "markdown",
   "metadata": {},
   "source": [
    "### Higher level APIs"
   ]
  },
  {
   "cell_type": "markdown",
   "metadata": {},
   "source": [
    "So far, we've primarily been building neural networks with fairy basic PyTorch operations.\n",
    "We did this to provide a clearer picture of how models actually work and what's going on under the hood.\n",
    "This can be important as you're learning concepts and the various frameworks, and sometimes the low-level control is necessary if you're trying to build something novel.\n",
    "\n",
    "However, most of the time, we do find ourselves repeating the same fairly standard lines of code, which can slow us down. \n",
    "Worse, it clutters up our code unnecessarily and introduces room for bugs and typos.\n",
    "And finally, as researchers or engineers, we would like to spend most of our time thinking on the highest levels of abstractions: I want to add a convolution layer here, then a fully-connected there, etc.\n",
    "Having to code all the small details are distractions that can detract from our ability to translate ideas into code.\n",
    "For this reason, PyTorch has higher level abstractions to help speed up implementation and improve model organization.\n",
    "While there are many ways to organize PyTorch code, one common paradigm is with `torch.nn.Module`.\n",
    "\n",
    "#### Object-oriented Refactorization\n",
    "\n",
    "It often makes sense for us to code our models in an [object-oriented manner](https://realpython.com/python3-object-oriented-programming/).\n",
    "To understand why, let's look back at the linear transformation $y = xW + b$ that we used for logistic regression. \n",
    "We can see that while the operation consisted of a matrix multiplication and addition, also associated with this operation was the instantiation of two parameters `W` and `b`, and these two parameters conceptually *belong* to the transform.\n",
    "As such, it would make sense to bundle up the instantiation of the two parameters with the actual transformation:"
   ]
  },
  {
   "cell_type": "code",
   "execution_count": 36,
   "metadata": {},
   "outputs": [],
   "source": [
    "# Note: illustrative example only; see below for torch.nn usage\n",
    "class xW_plus_b:\n",
    "    def __init__(self, dim_in, dim_out):\n",
    "        self.W = torch.randn(dim_in, dim_out)/np.sqrt(dim_in)\n",
    "        self.W.requires_grad_()\n",
    "        self.b = torch.zeros(dim_out, requires_grad=True)\n",
    "        \n",
    "    def forward(self, x):\n",
    "        return torch.matmul(x, self.W) + self.b"
   ]
  },
  {
   "cell_type": "markdown",
   "metadata": {},
   "source": [
    "To use what we just wrote, we can create an `xW_plus_b` instance using its `__init__()` method (the constructor).\n",
    "In this case, we're going to set the dimensions to be 784 and 10, as we did in our logisitic regression example above.\n",
    "This creates an `xW_plus_b` instance with two parameters `W` and `b`."
   ]
  },
  {
   "cell_type": "code",
   "execution_count": 37,
   "metadata": {},
   "outputs": [
    {
     "name": "stdout",
     "output_type": "stream",
     "text": [
      "W: torch.Size([784, 10])\n",
      "b: torch.Size([10])\n"
     ]
    }
   ],
   "source": [
    "# Note: illustrative example only; see below for torch.nn usage\n",
    "lin_custom = xW_plus_b(784, 10)\n",
    "print(\"W: {}\".format(lin_custom.W.shape))\n",
    "print(\"b: {}\".format(lin_custom.b.shape))"
   ]
  },
  {
   "cell_type": "markdown",
   "metadata": {},
   "source": [
    "After instantiating the instance, we can perform the actual linear transform of our custom `xW_plus_b` class by calling the instance's `forward()` function:"
   ]
  },
  {
   "cell_type": "code",
   "execution_count": 38,
   "metadata": {},
   "outputs": [
    {
     "name": "stdout",
     "output_type": "stream",
     "text": [
      "torch.Size([1, 10])\n"
     ]
    }
   ],
   "source": [
    "# Note: illustrative example only; see below for torch.nn usage\n",
    "x_rand = torch.randn(1,784)\n",
    "y = lin_custom.forward(x_rand)\n",
    "print(y.shape)"
   ]
  },
  {
   "cell_type": "markdown",
   "metadata": {},
   "source": [
    "#### Using  `torch.nn`\n",
    "\n",
    "While we can certainly implement our own classes for the operations we'd like to use, we don't have to, as PyTorch already has them in the `torch.nn` sublibrary. "
   ]
  },
  {
   "cell_type": "code",
   "execution_count": 39,
   "metadata": {},
   "outputs": [],
   "source": [
    "import torch.nn as nn"
   ]
  },
  {
   "cell_type": "markdown",
   "metadata": {},
   "source": [
    "For example, the linear transform example we just went through is called `torch.nn.Linear`:"
   ]
  },
  {
   "cell_type": "code",
   "execution_count": 40,
   "metadata": {},
   "outputs": [
    {
     "name": "stdout",
     "output_type": "stream",
     "text": [
      "Linear parameters: [torch.Size([10, 784]), torch.Size([10])]\n",
      "torch.Size([1, 10])\n"
     ]
    }
   ],
   "source": [
    "lin = nn.Linear(784, 10)\n",
    "print(\"Linear parameters: {}\".format([p.shape for p in lin.parameters()]))\n",
    "\n",
    "y = lin(x_rand)\n",
    "print(y.shape)"
   ]
  },
  {
   "cell_type": "markdown",
   "metadata": {},
   "source": [
    "The implementation for `nn.Linear` has a few more things under the hood (notice for example that the `forward()` function is aliased with calling the instance itself), but in spirit, it operates in much the same way as our custom `xW_plus_b` class.\n",
    "In the first line, we instantiate a `Linear` object, which automatically creates weight and bias variables of the specified dimensions.\n",
    "The fourth line then calls the `forward()` function (aliased with the object call), which performs the linear transformation."
   ]
  },
  {
   "cell_type": "markdown",
   "metadata": {},
   "source": [
    "#### Using `torch.nn.Module`\n",
    "\n",
    "The `torch.nn.Linear` class we just saw is a subclass of `torch.nn.Module`.\n",
    "However, `Module`s do not have to just describe a single operation; they can also define a chain of operations, each of which may also be `Module`s.\n",
    "As such, we can place our entire neural network within a `Module`.\n",
    "In this case, the module can track all of its associated parameters, some of which may also be associated with a submodule (e.g. `nn.Linear`), while also defining the `forward()` function, in one place."
   ]
  },
  {
   "cell_type": "code",
   "execution_count": 41,
   "metadata": {},
   "outputs": [],
   "source": [
    "class MNIST_Logistic_Regression(nn.Module):\n",
    "    def __init__(self):\n",
    "        super().__init__()\n",
    "        self.lin = nn.Linear(784, 10)\n",
    "\n",
    "    def forward(self, x):\n",
    "        return self.lin(x)"
   ]
  },
  {
   "cell_type": "markdown",
   "metadata": {},
   "source": [
    "In this particular example, we didn't need to chain any operations, but we'll see this come in handy as we move on to more complex models.\n",
    "Additionally, the `nn.Module` that we subclassed has a few other nice features.\n",
    "For example:\n",
    "- The `forward()` function of a `nn.Module` will call the `forward()` function of any child `nn.Module`s.\n",
    "- `print()` will print out a formatted summary of our model, recursively summarizing any child `nn.Module`s as well.\n",
    "- The `parameters()` function will return a generator that returns all parameters of a `nn.Module` (including those of any children)."
   ]
  },
  {
   "cell_type": "code",
   "execution_count": 42,
   "metadata": {},
   "outputs": [
    {
     "name": "stdout",
     "output_type": "stream",
     "text": [
      "The model: \n",
      "MNIST_Logistic_Regression(\n",
      "  (lin): Linear(in_features=784, out_features=10, bias=True)\n",
      ")\n",
      "\n",
      "Parameters: \n",
      "[Parameter containing:\n",
      "tensor([[ 0.0337, -0.0244,  0.0278,  ..., -0.0320,  0.0338,  0.0060],\n",
      "        [ 0.0061,  0.0237,  0.0128,  ...,  0.0059, -0.0228, -0.0245],\n",
      "        [-0.0056, -0.0224,  0.0117,  ...,  0.0283, -0.0262, -0.0231],\n",
      "        ...,\n",
      "        [-0.0273,  0.0344,  0.0125,  ...,  0.0025, -0.0326, -0.0281],\n",
      "        [-0.0128, -0.0033, -0.0125,  ...,  0.0231,  0.0348, -0.0318],\n",
      "        [-0.0348,  0.0123,  0.0101,  ...,  0.0087, -0.0216, -0.0049]],\n",
      "       requires_grad=True), Parameter containing:\n",
      "tensor([ 0.0330, -0.0261,  0.0015, -0.0165, -0.0099,  0.0243,  0.0240,  0.0168,\n",
      "         0.0154,  0.0227], requires_grad=True)]\n",
      "\n",
      "Output shape: \n",
      "torch.Size([1, 10])\n"
     ]
    }
   ],
   "source": [
    "model = MNIST_Logistic_Regression()\n",
    "y = model(x_rand)\n",
    "print(\"The model: \\n{}\".format(model))\n",
    "print(\"\\nParameters: \\n{}\".format(list(model.parameters())))\n",
    "print(\"\\nOutput shape: \\n{}\".format(y.shape))"
   ]
  },
  {
   "cell_type": "markdown",
   "metadata": {},
   "source": [
    "#### Full code with `nn.Module`\n",
    "\n",
    "Refactoring our previous complete logistic regression code to use a `nn.Module`:"
   ]
  },
  {
   "cell_type": "code",
   "execution_count": 43,
   "metadata": {},
   "outputs": [
    {
     "data": {
      "application/vnd.jupyter.widget-view+json": {
       "model_id": "7163e4a18da046318defd66160ed11c9",
       "version_major": 2,
       "version_minor": 0
      },
      "text/plain": [
       "HBox(children=(FloatProgress(value=0.0, max=600.0), HTML(value='')))"
      ]
     },
     "metadata": {},
     "output_type": "display_data"
    },
    {
     "name": "stdout",
     "output_type": "stream",
     "text": [
      "\n"
     ]
    },
    {
     "data": {
      "application/vnd.jupyter.widget-view+json": {
       "model_id": "490b237f716b4280b316e49330815468",
       "version_major": 2,
       "version_minor": 0
      },
      "text/plain": [
       "HBox(children=(FloatProgress(value=0.0), HTML(value='')))"
      ]
     },
     "metadata": {},
     "output_type": "display_data"
    },
    {
     "name": "stdout",
     "output_type": "stream",
     "text": [
      "\n",
      "Test accuracy: 0.9053000211715698\n"
     ]
    }
   ],
   "source": [
    "import numpy as np\n",
    "import torch\n",
    "import torch.nn as nn\n",
    "import torch.nn.functional as F\n",
    "from torchvision import datasets, transforms\n",
    "from tqdm.notebook import tqdm\n",
    "\n",
    "class MNIST_Logistic_Regression(nn.Module):\n",
    "    def __init__(self):\n",
    "        super().__init__()\n",
    "        self.lin = nn.Linear(784, 10)\n",
    "\n",
    "    def forward(self, x):\n",
    "        return self.lin(x)\n",
    "\n",
    "# Load the data\n",
    "mnist_train = datasets.MNIST(root=\"./datasets\", train=True, transform=transforms.ToTensor(), download=True)\n",
    "mnist_test = datasets.MNIST(root=\"./datasets\", train=False, transform=transforms.ToTensor(), download=True)\n",
    "train_loader = torch.utils.data.DataLoader(mnist_train, batch_size=100, shuffle=True)\n",
    "test_loader = torch.utils.data.DataLoader(mnist_test, batch_size=100, shuffle=False)\n",
    "\n",
    "## Training\n",
    "# Instantiate model\n",
    "model = MNIST_Logistic_Regression()\n",
    "\n",
    "# Loss and Optimizer\n",
    "criterion = nn.CrossEntropyLoss()\n",
    "optimizer = torch.optim.SGD(model.parameters(), lr=0.1)\n",
    "\n",
    "# Iterate through train set minibatchs \n",
    "for images, labels in tqdm(train_loader):\n",
    "    # Zero out the gradients\n",
    "    optimizer.zero_grad()\n",
    "    \n",
    "    # Forward pass\n",
    "    x = images.view(-1, 28*28)\n",
    "    y = model(x)\n",
    "    loss = criterion(y, labels)\n",
    "    # Backward pass\n",
    "    loss.backward()\n",
    "    optimizer.step()\n",
    "\n",
    "## Testing\n",
    "correct = 0\n",
    "total = len(mnist_test)\n",
    "\n",
    "with torch.no_grad():\n",
    "    # Iterate through test set minibatchs \n",
    "    for images, labels in tqdm(test_loader):\n",
    "        # Forward pass\n",
    "        x = images.view(-1, 28*28)\n",
    "        y = model(x)\n",
    "        \n",
    "        predictions = torch.argmax(y, dim=1)\n",
    "        correct += torch.sum((predictions == labels).float())\n",
    "    \n",
    "print('Test accuracy: {}'.format(correct/total))"
   ]
  },
  {
   "cell_type": "markdown",
   "metadata": {},
   "source": [
    "While the benefits of organizing a model as a `nn.Module` may not be as obvious for a simple logistic regression model, such a programming style allows for much quicker and cleaner implementations for more complex models, as we'll see in later notebooks."
   ]
  }
 ],
 "metadata": {
  "kernelspec": {
   "display_name": "Python 3 (ipykernel)",
   "language": "python",
   "name": "python3"
  },
  "language_info": {
   "codemirror_mode": {
    "name": "ipython",
    "version": 3
   },
   "file_extension": ".py",
   "mimetype": "text/x-python",
   "name": "python",
   "nbconvert_exporter": "python",
   "pygments_lexer": "ipython3",
   "version": "3.11.5"
  },
  "widgets": {
   "application/vnd.jupyter.widget-state+json": {
    "state": {
     "00ab3361f9b948b48b0976623b0a83a7": {
      "model_module": "@jupyter-widgets/base",
      "model_module_version": "1.2.0",
      "model_name": "LayoutModel",
      "state": {}
     },
     "02ba6fc556654c0bad4a145c4b17418c": {
      "model_module": "@jupyter-widgets/controls",
      "model_module_version": "1.5.0",
      "model_name": "DescriptionStyleModel",
      "state": {
       "description_width": ""
      }
     },
     "03770380477d40069927db8dba2ecc34": {
      "model_module": "@jupyter-widgets/controls",
      "model_module_version": "1.5.0",
      "model_name": "DescriptionStyleModel",
      "state": {
       "description_width": ""
      }
     },
     "04a01f520eaf4d1a8ebc8689fc58c824": {
      "model_module": "@jupyter-widgets/controls",
      "model_module_version": "1.5.0",
      "model_name": "HTMLModel",
      "state": {
       "layout": "IPY_MODEL_26d5c364d9f04653ac0ae8767c252a89",
       "style": "IPY_MODEL_5081bd58b2c548079ae99dce7948daa1",
       "value": " 600/600 [00:19&lt;00:00, 30.41it/s]"
      }
     },
     "05372d8d36294452a3a083d0e7844c96": {
      "model_module": "@jupyter-widgets/controls",
      "model_module_version": "1.5.0",
      "model_name": "HTMLModel",
      "state": {
       "layout": "IPY_MODEL_cbc29e26fbbd461ab309214dac56a9ce",
       "style": "IPY_MODEL_232cd012d52d437daabfba407e796fbc",
       "value": " 100/100 [00:03&lt;00:00, 29.56it/s]"
      }
     },
     "0645f6470aad4651bab08c97952a0a24": {
      "model_module": "@jupyter-widgets/controls",
      "model_module_version": "1.5.0",
      "model_name": "HBoxModel",
      "state": {
       "children": [
        "IPY_MODEL_55001bfcd7dd4a0db1f8170c55fc99a9",
        "IPY_MODEL_04a01f520eaf4d1a8ebc8689fc58c824"
       ],
       "layout": "IPY_MODEL_f045f24016f5412696ccd4d42d3ac4a6"
      }
     },
     "070afb362477408c98244dcab5f6f78d": {
      "model_module": "@jupyter-widgets/controls",
      "model_module_version": "1.5.0",
      "model_name": "HTMLModel",
      "state": {
       "layout": "IPY_MODEL_5ebbf75c554e4ada93d74270c4550786",
       "style": "IPY_MODEL_3258e34f678f45839bdea8d59f2aa1c3",
       "value": " 100/100 [00:02&lt;00:00, 46.13it/s]"
      }
     },
     "08127475b3c0456db3db286c913b7271": {
      "model_module": "@jupyter-widgets/controls",
      "model_module_version": "1.5.0",
      "model_name": "ProgressStyleModel",
      "state": {
       "description_width": "initial"
      }
     },
     "0932d5c51b9b43eb96c0de08e3f7912d": {
      "model_module": "@jupyter-widgets/controls",
      "model_module_version": "1.5.0",
      "model_name": "IntProgressModel",
      "state": {
       "bar_style": "success",
       "description": "100%",
       "layout": "IPY_MODEL_70837d601e064314987516a48f246429",
       "max": 600,
       "style": "IPY_MODEL_d47fa458994a4c2d9922b6daf4779539",
       "value": 600
      }
     },
     "0b73de309f0e4622960445b5e67b0f23": {
      "model_module": "@jupyter-widgets/controls",
      "model_module_version": "1.5.0",
      "model_name": "DescriptionStyleModel",
      "state": {
       "description_width": ""
      }
     },
     "0b90a0686fef47dc8985949c412ebf43": {
      "model_module": "@jupyter-widgets/controls",
      "model_module_version": "1.5.0",
      "model_name": "IntProgressModel",
      "state": {
       "bar_style": "success",
       "description": "100%",
       "layout": "IPY_MODEL_53ae2d18383a43ebb7a2327b62efdbfe",
       "style": "IPY_MODEL_7e87dbe6f0484a6d891c4359f362f2ba",
       "value": 100
      }
     },
     "0c18433b48ac4be0b0e037d5be0c63f8": {
      "model_module": "@jupyter-widgets/base",
      "model_module_version": "1.2.0",
      "model_name": "LayoutModel",
      "state": {}
     },
     "0dcf2e7c51d04f5da15ede8dd49f0eac": {
      "model_module": "@jupyter-widgets/controls",
      "model_module_version": "1.5.0",
      "model_name": "DescriptionStyleModel",
      "state": {
       "description_width": ""
      }
     },
     "1110c89bcb7948b8a4081f188c8f053f": {
      "model_module": "@jupyter-widgets/base",
      "model_module_version": "1.2.0",
      "model_name": "LayoutModel",
      "state": {}
     },
     "13366e3937e24dc4bf9254771e0ac514": {
      "model_module": "@jupyter-widgets/base",
      "model_module_version": "1.2.0",
      "model_name": "LayoutModel",
      "state": {}
     },
     "139a26066e2a453a92a5741ac7440a3f": {
      "model_module": "@jupyter-widgets/controls",
      "model_module_version": "1.5.0",
      "model_name": "ProgressStyleModel",
      "state": {
       "description_width": "initial"
      }
     },
     "180345d08d3e43fa88bf97bc5cb3f4b1": {
      "model_module": "@jupyter-widgets/controls",
      "model_module_version": "1.5.0",
      "model_name": "DescriptionStyleModel",
      "state": {
       "description_width": ""
      }
     },
     "19ad38959222414cab16faf7bd42713f": {
      "model_module": "@jupyter-widgets/controls",
      "model_module_version": "1.5.0",
      "model_name": "IntProgressModel",
      "state": {
       "bar_style": "success",
       "description": "100%",
       "layout": "IPY_MODEL_ab3028b53595467b92c4906fb61ba183",
       "max": 600,
       "style": "IPY_MODEL_22d2a9019d9c4417883d571b24405d10",
       "value": 600
      }
     },
     "1b2e84ba16de427fa17a661d4033d276": {
      "model_module": "@jupyter-widgets/controls",
      "model_module_version": "1.5.0",
      "model_name": "FloatProgressModel",
      "state": {
       "bar_style": "success",
       "description": "100%",
       "layout": "IPY_MODEL_56f455eeb9624937980c91d59d0a72ed",
       "style": "IPY_MODEL_e988071311e640fd84d509864d1c64b6",
       "value": 100
      }
     },
     "1cb1d5db956f4c1599f362159649c5cb": {
      "model_module": "@jupyter-widgets/controls",
      "model_module_version": "1.5.0",
      "model_name": "ProgressStyleModel",
      "state": {
       "description_width": "initial"
      }
     },
     "1e340c6bb86f4a068e41cbb423949885": {
      "model_module": "@jupyter-widgets/controls",
      "model_module_version": "1.5.0",
      "model_name": "HBoxModel",
      "state": {
       "children": [
        "IPY_MODEL_19ad38959222414cab16faf7bd42713f",
        "IPY_MODEL_d1e25145f12b42a3be57a6aace611870"
       ],
       "layout": "IPY_MODEL_6029a556c8d543f9929a6e553bf4a9a5"
      }
     },
     "1ebda3e2449a4577be0b36950eff50ae": {
      "model_module": "@jupyter-widgets/controls",
      "model_module_version": "1.5.0",
      "model_name": "HBoxModel",
      "state": {
       "children": [
        "IPY_MODEL_cd4ee4fec9a845c3a17cbc5516345a56",
        "IPY_MODEL_a52554c238f84cefa9e52f4ea05c75e7"
       ],
       "layout": "IPY_MODEL_e3e090911b134c2f9f59b1f8cdddcf4b"
      }
     },
     "21606ea13c9c4afa8ef95cd727230bdc": {
      "model_module": "@jupyter-widgets/base",
      "model_module_version": "1.2.0",
      "model_name": "LayoutModel",
      "state": {}
     },
     "22d2a9019d9c4417883d571b24405d10": {
      "model_module": "@jupyter-widgets/controls",
      "model_module_version": "1.5.0",
      "model_name": "ProgressStyleModel",
      "state": {
       "description_width": "initial"
      }
     },
     "232cd012d52d437daabfba407e796fbc": {
      "model_module": "@jupyter-widgets/controls",
      "model_module_version": "1.5.0",
      "model_name": "DescriptionStyleModel",
      "state": {
       "description_width": ""
      }
     },
     "25f6dea15b0448fd941133106d8d1d37": {
      "model_module": "@jupyter-widgets/controls",
      "model_module_version": "1.5.0",
      "model_name": "ProgressStyleModel",
      "state": {
       "description_width": "initial"
      }
     },
     "26d5c364d9f04653ac0ae8767c252a89": {
      "model_module": "@jupyter-widgets/base",
      "model_module_version": "1.2.0",
      "model_name": "LayoutModel",
      "state": {}
     },
     "28859aee2b35402d9a371a808b0f77af": {
      "model_module": "@jupyter-widgets/controls",
      "model_module_version": "1.5.0",
      "model_name": "DescriptionStyleModel",
      "state": {
       "description_width": ""
      }
     },
     "30309ea05c174448943ecb5ba92ae0e5": {
      "model_module": "@jupyter-widgets/base",
      "model_module_version": "1.2.0",
      "model_name": "LayoutModel",
      "state": {}
     },
     "312e9fe46c29463999edfd8af1ade5b9": {
      "model_module": "@jupyter-widgets/controls",
      "model_module_version": "1.5.0",
      "model_name": "IntProgressModel",
      "state": {
       "bar_style": "success",
       "description": "100%",
       "layout": "IPY_MODEL_6dadd75dd8224017a21fea4302e957aa",
       "style": "IPY_MODEL_a4d777e8f0994329912efaab8f50d747",
       "value": 100
      }
     },
     "3258e34f678f45839bdea8d59f2aa1c3": {
      "model_module": "@jupyter-widgets/controls",
      "model_module_version": "1.5.0",
      "model_name": "DescriptionStyleModel",
      "state": {
       "description_width": ""
      }
     },
     "32e9a047ea3a41439e5d83ecc5310ddb": {
      "model_module": "@jupyter-widgets/controls",
      "model_module_version": "1.5.0",
      "model_name": "HTMLModel",
      "state": {
       "layout": "IPY_MODEL_a52ede1b19f84fa1887ca5c33686b97e",
       "style": "IPY_MODEL_acd64aff4bd24ec49aef585414303fab",
       "value": " 100/100 [00:02&lt;00:00, 35.70it/s]"
      }
     },
     "33724df2f1a3433bbb26aa18bc88b126": {
      "model_module": "@jupyter-widgets/controls",
      "model_module_version": "1.5.0",
      "model_name": "IntProgressModel",
      "state": {
       "bar_style": "success",
       "description": "100%",
       "layout": "IPY_MODEL_e1d28e912a1d40d8890d9946c1f86981",
       "style": "IPY_MODEL_cabcc13852074e07a8d322cd99f24e5e",
       "value": 100
      }
     },
     "3877f7bc979a4999a78e0ca12a2efd2f": {
      "model_module": "@jupyter-widgets/controls",
      "model_module_version": "1.5.0",
      "model_name": "HTMLModel",
      "state": {
       "layout": "IPY_MODEL_fb696dfe7bae4a00b375d9c7c6053293",
       "style": "IPY_MODEL_42473977bd5248308eca1210a128bdae",
       "value": " 100/100 [00:01&lt;00:00, 52.80it/s]"
      }
     },
     "3b47462712754c9484f4bb97183b127f": {
      "model_module": "@jupyter-widgets/controls",
      "model_module_version": "1.5.0",
      "model_name": "ProgressStyleModel",
      "state": {
       "description_width": "initial"
      }
     },
     "3bf1ea9535ad49c189eafc90c872c079": {
      "model_module": "@jupyter-widgets/controls",
      "model_module_version": "1.5.0",
      "model_name": "DescriptionStyleModel",
      "state": {
       "description_width": ""
      }
     },
     "4112ba3474384d839e66ffaaab8f2355": {
      "model_module": "@jupyter-widgets/controls",
      "model_module_version": "1.5.0",
      "model_name": "HTMLModel",
      "state": {
       "layout": "IPY_MODEL_c0971f8cf1284aaca0068c0b57d6cab0",
       "style": "IPY_MODEL_28859aee2b35402d9a371a808b0f77af",
       "value": " 600/600 [00:16&lt;00:00, 35.95it/s]"
      }
     },
     "42473977bd5248308eca1210a128bdae": {
      "model_module": "@jupyter-widgets/controls",
      "model_module_version": "1.5.0",
      "model_name": "DescriptionStyleModel",
      "state": {
       "description_width": ""
      }
     },
     "42c21b2eb4834c7b84838c3831e2f34b": {
      "model_module": "@jupyter-widgets/controls",
      "model_module_version": "1.5.0",
      "model_name": "DescriptionStyleModel",
      "state": {
       "description_width": ""
      }
     },
     "45759a4191104054b18f78f161e4114b": {
      "model_module": "@jupyter-widgets/base",
      "model_module_version": "1.2.0",
      "model_name": "LayoutModel",
      "state": {}
     },
     "46fbadc7425740fd9a72f8034a4e6753": {
      "model_module": "@jupyter-widgets/base",
      "model_module_version": "1.2.0",
      "model_name": "LayoutModel",
      "state": {}
     },
     "479ef10b25b44072bf9b62bb3244e1f8": {
      "model_module": "@jupyter-widgets/base",
      "model_module_version": "1.2.0",
      "model_name": "LayoutModel",
      "state": {}
     },
     "48e29dbfe2f64b07adb36bf03501699d": {
      "model_module": "@jupyter-widgets/controls",
      "model_module_version": "1.5.0",
      "model_name": "HBoxModel",
      "state": {
       "children": [
        "IPY_MODEL_ffeae8ce8dde457eb2ba3ec954e2216e",
        "IPY_MODEL_d393ae32b0a94f1d8591995c66f71243"
       ],
       "layout": "IPY_MODEL_fb6e26311b32443391e4a1ce19de0678"
      }
     },
     "4b92c8e1cdcb4ea2a3622474cab1a875": {
      "model_module": "@jupyter-widgets/controls",
      "model_module_version": "1.5.0",
      "model_name": "ProgressStyleModel",
      "state": {
       "description_width": "initial"
      }
     },
     "4bec82b3e28441f78808b30d623eded8": {
      "model_module": "@jupyter-widgets/controls",
      "model_module_version": "1.5.0",
      "model_name": "IntProgressModel",
      "state": {
       "bar_style": "success",
       "description": "100%",
       "layout": "IPY_MODEL_f65f7b566392443eab4238881599bb42",
       "max": 600,
       "style": "IPY_MODEL_5d83d8f891bb47489b5eebd8331f97d1",
       "value": 600
      }
     },
     "4c2af1030c8246eda9ccc184abd348d1": {
      "model_module": "@jupyter-widgets/base",
      "model_module_version": "1.2.0",
      "model_name": "LayoutModel",
      "state": {}
     },
     "4c83d21fbe2546b1bc75b37618873f65": {
      "model_module": "@jupyter-widgets/controls",
      "model_module_version": "1.5.0",
      "model_name": "HBoxModel",
      "state": {
       "children": [
        "IPY_MODEL_0932d5c51b9b43eb96c0de08e3f7912d",
        "IPY_MODEL_bfb0ba4f81f14080b9924db914dcf40c"
       ],
       "layout": "IPY_MODEL_630457eddaf54d7cafe66f26ab1d46a7"
      }
     },
     "4e39f76cfaa941b0a5ad44075c7ef198": {
      "model_module": "@jupyter-widgets/controls",
      "model_module_version": "1.5.0",
      "model_name": "HBoxModel",
      "state": {
       "children": [
        "IPY_MODEL_7cbcf84618fd43efa672966c819226c5",
        "IPY_MODEL_d291924bdbb349e69a084d7d91c76ebe"
       ],
       "layout": "IPY_MODEL_f8d0a0172da942d0bf4db39113cfef42"
      }
     },
     "4ed8e96625e24a919dcdc548e12086e9": {
      "model_module": "@jupyter-widgets/base",
      "model_module_version": "1.2.0",
      "model_name": "LayoutModel",
      "state": {}
     },
     "4f35ff781dcf40c6b03ce427f220dfe4": {
      "model_module": "@jupyter-widgets/controls",
      "model_module_version": "1.5.0",
      "model_name": "DescriptionStyleModel",
      "state": {
       "description_width": ""
      }
     },
     "5081bd58b2c548079ae99dce7948daa1": {
      "model_module": "@jupyter-widgets/controls",
      "model_module_version": "1.5.0",
      "model_name": "DescriptionStyleModel",
      "state": {
       "description_width": ""
      }
     },
     "53606d6c4d93409c82e68a7fdca9610c": {
      "model_module": "@jupyter-widgets/controls",
      "model_module_version": "1.5.0",
      "model_name": "ProgressStyleModel",
      "state": {
       "description_width": "initial"
      }
     },
     "53ae2d18383a43ebb7a2327b62efdbfe": {
      "model_module": "@jupyter-widgets/base",
      "model_module_version": "1.2.0",
      "model_name": "LayoutModel",
      "state": {}
     },
     "546189e2848f4b218d68788c06d6ea85": {
      "model_module": "@jupyter-widgets/base",
      "model_module_version": "1.2.0",
      "model_name": "LayoutModel",
      "state": {}
     },
     "55001bfcd7dd4a0db1f8170c55fc99a9": {
      "model_module": "@jupyter-widgets/controls",
      "model_module_version": "1.5.0",
      "model_name": "IntProgressModel",
      "state": {
       "bar_style": "success",
       "description": "100%",
       "layout": "IPY_MODEL_61b8676138324dd3831ebaed08572e4f",
       "max": 600,
       "style": "IPY_MODEL_b1fa6a5c2a2443f7b0561ad65e10468e",
       "value": 600
      }
     },
     "56f455eeb9624937980c91d59d0a72ed": {
      "model_module": "@jupyter-widgets/base",
      "model_module_version": "1.2.0",
      "model_name": "LayoutModel",
      "state": {}
     },
     "5d83d8f891bb47489b5eebd8331f97d1": {
      "model_module": "@jupyter-widgets/controls",
      "model_module_version": "1.5.0",
      "model_name": "ProgressStyleModel",
      "state": {
       "description_width": "initial"
      }
     },
     "5dfeb1724b7340a8806aa3e944db9956": {
      "model_module": "@jupyter-widgets/controls",
      "model_module_version": "1.5.0",
      "model_name": "HBoxModel",
      "state": {
       "children": [
        "IPY_MODEL_d89d4ffb0770466292129554c7369cae",
        "IPY_MODEL_dd2b6ac6de5a4907bde927b72e888208"
       ],
       "layout": "IPY_MODEL_e5bb8e91222b466791970de816a0187b"
      }
     },
     "5e838fe82fa549aaab1fde139b26121a": {
      "model_module": "@jupyter-widgets/base",
      "model_module_version": "1.2.0",
      "model_name": "LayoutModel",
      "state": {}
     },
     "5ebbf75c554e4ada93d74270c4550786": {
      "model_module": "@jupyter-widgets/base",
      "model_module_version": "1.2.0",
      "model_name": "LayoutModel",
      "state": {}
     },
     "5ebf9c13b75741a3950b6461bee442af": {
      "model_module": "@jupyter-widgets/base",
      "model_module_version": "1.2.0",
      "model_name": "LayoutModel",
      "state": {}
     },
     "5f3b481c4c934ee3ab2a2086412d6cc8": {
      "model_module": "@jupyter-widgets/base",
      "model_module_version": "1.2.0",
      "model_name": "LayoutModel",
      "state": {}
     },
     "6029a556c8d543f9929a6e553bf4a9a5": {
      "model_module": "@jupyter-widgets/base",
      "model_module_version": "1.2.0",
      "model_name": "LayoutModel",
      "state": {}
     },
     "61b8676138324dd3831ebaed08572e4f": {
      "model_module": "@jupyter-widgets/base",
      "model_module_version": "1.2.0",
      "model_name": "LayoutModel",
      "state": {}
     },
     "630457eddaf54d7cafe66f26ab1d46a7": {
      "model_module": "@jupyter-widgets/base",
      "model_module_version": "1.2.0",
      "model_name": "LayoutModel",
      "state": {}
     },
     "64630cc14f9b474287401e4bac647c22": {
      "model_module": "@jupyter-widgets/controls",
      "model_module_version": "1.5.0",
      "model_name": "DescriptionStyleModel",
      "state": {
       "description_width": ""
      }
     },
     "64777a4ec2d0417a949bba49edaedd94": {
      "model_module": "@jupyter-widgets/base",
      "model_module_version": "1.2.0",
      "model_name": "LayoutModel",
      "state": {}
     },
     "6779d64d71cc4f80a18e3d7edb9fe77b": {
      "model_module": "@jupyter-widgets/controls",
      "model_module_version": "1.5.0",
      "model_name": "IntProgressModel",
      "state": {
       "bar_style": "success",
       "description": "100%",
       "layout": "IPY_MODEL_479ef10b25b44072bf9b62bb3244e1f8",
       "max": 600,
       "style": "IPY_MODEL_7903dd30475249cdb0b4e61de937e7c1",
       "value": 600
      }
     },
     "6943475d270b4209873dc4835b0300bd": {
      "model_module": "@jupyter-widgets/controls",
      "model_module_version": "1.5.0",
      "model_name": "HBoxModel",
      "state": {
       "children": [
        "IPY_MODEL_6fd0da636b74404abc93e483a3bebfb3",
        "IPY_MODEL_8032b7629d5943febafa8d25e59c175c"
       ],
       "layout": "IPY_MODEL_e28d4876f752451a8d81c93b107bbcd3"
      }
     },
     "69e506b09b4c4f0db02641e724e78020": {
      "model_module": "@jupyter-widgets/base",
      "model_module_version": "1.2.0",
      "model_name": "LayoutModel",
      "state": {}
     },
     "6ac175ccc9174632802d40c527afdea3": {
      "model_module": "@jupyter-widgets/controls",
      "model_module_version": "1.5.0",
      "model_name": "HTMLModel",
      "state": {
       "layout": "IPY_MODEL_f0874107f14b455ca59d0efd8bea5db1",
       "style": "IPY_MODEL_9613febf823e490487115eaacc3791a6",
       "value": " 600/600 [00:16&lt;00:00, 36.04it/s]"
      }
     },
     "6ad9032d612f454b85321ed603ca3815": {
      "model_module": "@jupyter-widgets/controls",
      "model_module_version": "1.5.0",
      "model_name": "IntProgressModel",
      "state": {
       "bar_style": "success",
       "description": "100%",
       "layout": "IPY_MODEL_b29d4784e1194b61851631bbb06c4a32",
       "max": 600,
       "style": "IPY_MODEL_4b92c8e1cdcb4ea2a3622474cab1a875",
       "value": 600
      }
     },
     "6d69e250974440d2aaa5d90d5371c959": {
      "model_module": "@jupyter-widgets/base",
      "model_module_version": "1.2.0",
      "model_name": "LayoutModel",
      "state": {}
     },
     "6dadd75dd8224017a21fea4302e957aa": {
      "model_module": "@jupyter-widgets/base",
      "model_module_version": "1.2.0",
      "model_name": "LayoutModel",
      "state": {}
     },
     "6dd5a25c673f4a4faf8c7d0b2e398abf": {
      "model_module": "@jupyter-widgets/controls",
      "model_module_version": "1.5.0",
      "model_name": "FloatProgressModel",
      "state": {
       "bar_style": "success",
       "description": "100%",
       "layout": "IPY_MODEL_ee64dbf4666c4ca790c82b352e2bd3dc",
       "style": "IPY_MODEL_a8abaf603e14436c9556618d0a599e82",
       "value": 100
      }
     },
     "6fd0da636b74404abc93e483a3bebfb3": {
      "model_module": "@jupyter-widgets/controls",
      "model_module_version": "1.5.0",
      "model_name": "FloatProgressModel",
      "state": {
       "bar_style": "success",
       "description": "100%",
       "layout": "IPY_MODEL_eef6e87e976447aea9d6ec869e115173",
       "style": "IPY_MODEL_53606d6c4d93409c82e68a7fdca9610c",
       "value": 100
      }
     },
     "703e062492724a06bdf1510053ccbc6a": {
      "model_module": "@jupyter-widgets/controls",
      "model_module_version": "1.5.0",
      "model_name": "HTMLModel",
      "state": {
       "layout": "IPY_MODEL_ef59d86997614b18a8c1311689822f03",
       "style": "IPY_MODEL_02ba6fc556654c0bad4a145c4b17418c",
       "value": " 600/600 [00:24&lt;00:00, 24.88it/s]"
      }
     },
     "70837d601e064314987516a48f246429": {
      "model_module": "@jupyter-widgets/base",
      "model_module_version": "1.2.0",
      "model_name": "LayoutModel",
      "state": {}
     },
     "709f252ba28243698ffde792b2b7297c": {
      "model_module": "@jupyter-widgets/controls",
      "model_module_version": "1.5.0",
      "model_name": "HTMLModel",
      "state": {
       "layout": "IPY_MODEL_69e506b09b4c4f0db02641e724e78020",
       "style": "IPY_MODEL_ad8cee115d6749df944c36a3564fef46",
       "value": " 100/100 [00:03&lt;00:00, 31.10it/s]"
      }
     },
     "71f74cf044db43979c7a297ff8be572e": {
      "model_module": "@jupyter-widgets/base",
      "model_module_version": "1.2.0",
      "model_name": "LayoutModel",
      "state": {}
     },
     "74c67621af0148fe92defe8e4513c56c": {
      "model_module": "@jupyter-widgets/base",
      "model_module_version": "1.2.0",
      "model_name": "LayoutModel",
      "state": {}
     },
     "752ef1aef0804eabbe76ba2a4f5a56c8": {
      "model_module": "@jupyter-widgets/base",
      "model_module_version": "1.2.0",
      "model_name": "LayoutModel",
      "state": {}
     },
     "75657820ee9648bca89a17c4def23516": {
      "model_module": "@jupyter-widgets/base",
      "model_module_version": "1.2.0",
      "model_name": "LayoutModel",
      "state": {}
     },
     "759a293be651417982a43ab19f7ef9be": {
      "model_module": "@jupyter-widgets/controls",
      "model_module_version": "1.5.0",
      "model_name": "ProgressStyleModel",
      "state": {
       "description_width": "initial"
      }
     },
     "75a748fff88147efbf2c40e75150f667": {
      "model_module": "@jupyter-widgets/controls",
      "model_module_version": "1.5.0",
      "model_name": "HBoxModel",
      "state": {
       "children": [
        "IPY_MODEL_de4d634ca87f438e9c4aaf69072cb2e1",
        "IPY_MODEL_6ac175ccc9174632802d40c527afdea3"
       ],
       "layout": "IPY_MODEL_c93a4f2634ab4334a9bc86f864ec9d03"
      }
     },
     "77411f173eaa4ba6ac63ed381d2374e4": {
      "model_module": "@jupyter-widgets/base",
      "model_module_version": "1.2.0",
      "model_name": "LayoutModel",
      "state": {}
     },
     "779e7d516c99412f84a0be9af866c266": {
      "model_module": "@jupyter-widgets/controls",
      "model_module_version": "1.5.0",
      "model_name": "HBoxModel",
      "state": {
       "children": [
        "IPY_MODEL_781e1aed06e348ac827b4339bc448f75",
        "IPY_MODEL_32e9a047ea3a41439e5d83ecc5310ddb"
       ],
       "layout": "IPY_MODEL_21606ea13c9c4afa8ef95cd727230bdc"
      }
     },
     "7813e38f58f242f5868953bd4c8003fc": {
      "model_module": "@jupyter-widgets/controls",
      "model_module_version": "1.5.0",
      "model_name": "DescriptionStyleModel",
      "state": {
       "description_width": ""
      }
     },
     "781e1aed06e348ac827b4339bc448f75": {
      "model_module": "@jupyter-widgets/controls",
      "model_module_version": "1.5.0",
      "model_name": "IntProgressModel",
      "state": {
       "bar_style": "success",
       "description": "100%",
       "layout": "IPY_MODEL_5f3b481c4c934ee3ab2a2086412d6cc8",
       "style": "IPY_MODEL_da6915df7a4e4525a369586d4e45111a",
       "value": 100
      }
     },
     "7838ea755ce5480eab9de43af72d6a69": {
      "model_module": "@jupyter-widgets/controls",
      "model_module_version": "1.5.0",
      "model_name": "ProgressStyleModel",
      "state": {
       "description_width": "initial"
      }
     },
     "7903dd30475249cdb0b4e61de937e7c1": {
      "model_module": "@jupyter-widgets/controls",
      "model_module_version": "1.5.0",
      "model_name": "ProgressStyleModel",
      "state": {
       "description_width": "initial"
      }
     },
     "794168f4d4594941aa2441f5a662d1df": {
      "model_module": "@jupyter-widgets/base",
      "model_module_version": "1.2.0",
      "model_name": "LayoutModel",
      "state": {}
     },
     "7953b46a197646e085cd429c4777ec30": {
      "model_module": "@jupyter-widgets/controls",
      "model_module_version": "1.5.0",
      "model_name": "DescriptionStyleModel",
      "state": {
       "description_width": ""
      }
     },
     "79ef0f8bd70f4164a11f0afe3ec669c2": {
      "model_module": "@jupyter-widgets/controls",
      "model_module_version": "1.5.0",
      "model_name": "FloatProgressModel",
      "state": {
       "bar_style": "success",
       "description": "100%",
       "layout": "IPY_MODEL_794168f4d4594941aa2441f5a662d1df",
       "max": 600,
       "style": "IPY_MODEL_3b47462712754c9484f4bb97183b127f",
       "value": 600
      }
     },
     "7cbcf84618fd43efa672966c819226c5": {
      "model_module": "@jupyter-widgets/controls",
      "model_module_version": "1.5.0",
      "model_name": "IntProgressModel",
      "state": {
       "bar_style": "success",
       "description": "100%",
       "layout": "IPY_MODEL_74c67621af0148fe92defe8e4513c56c",
       "style": "IPY_MODEL_139a26066e2a453a92a5741ac7440a3f",
       "value": 100
      }
     },
     "7e2a7cb7b012443d80dd1e19e3f9934e": {
      "model_module": "@jupyter-widgets/base",
      "model_module_version": "1.2.0",
      "model_name": "LayoutModel",
      "state": {}
     },
     "7e87dbe6f0484a6d891c4359f362f2ba": {
      "model_module": "@jupyter-widgets/controls",
      "model_module_version": "1.5.0",
      "model_name": "ProgressStyleModel",
      "state": {
       "description_width": "initial"
      }
     },
     "8032b7629d5943febafa8d25e59c175c": {
      "model_module": "@jupyter-widgets/controls",
      "model_module_version": "1.5.0",
      "model_name": "HTMLModel",
      "state": {
       "layout": "IPY_MODEL_dfbdeaf4bae14bde9dca3e0d579bafad",
       "style": "IPY_MODEL_ed8e61c1bb23474d90831e61954f4985",
       "value": " 100/100 [00:03&lt;00:00, 29.53it/s]"
      }
     },
     "809bbad7968743fab4783f7d0d36bdf0": {
      "model_module": "@jupyter-widgets/controls",
      "model_module_version": "1.5.0",
      "model_name": "FloatProgressModel",
      "state": {
       "bar_style": "success",
       "description": "100%",
       "layout": "IPY_MODEL_8886b0dda5ea42adb4a2800057aa3b4b",
       "max": 600,
       "style": "IPY_MODEL_7838ea755ce5480eab9de43af72d6a69",
       "value": 600
      }
     },
     "82a4101b67bf48eda5c119e282f9e167": {
      "model_module": "@jupyter-widgets/controls",
      "model_module_version": "1.5.0",
      "model_name": "HBoxModel",
      "state": {
       "children": [
        "IPY_MODEL_1b2e84ba16de427fa17a661d4033d276",
        "IPY_MODEL_05372d8d36294452a3a083d0e7844c96"
       ],
       "layout": "IPY_MODEL_77411f173eaa4ba6ac63ed381d2374e4"
      }
     },
     "83e68222f60c48dca841c8836e582553": {
      "model_module": "@jupyter-widgets/base",
      "model_module_version": "1.2.0",
      "model_name": "LayoutModel",
      "state": {}
     },
     "85a0c592d9b54b44a240e2dff7947ebd": {
      "model_module": "@jupyter-widgets/controls",
      "model_module_version": "1.5.0",
      "model_name": "HBoxModel",
      "state": {
       "children": [
        "IPY_MODEL_f3149d5c75fa45999c4797beb1efb134",
        "IPY_MODEL_efd0d8f6ffee421b9c372c76ed9ef1a8"
       ],
       "layout": "IPY_MODEL_0c18433b48ac4be0b0e037d5be0c63f8"
      }
     },
     "86aabc046a7d4feeaec002c17836cf74": {
      "model_module": "@jupyter-widgets/controls",
      "model_module_version": "1.5.0",
      "model_name": "HBoxModel",
      "state": {
       "children": [
        "IPY_MODEL_6779d64d71cc4f80a18e3d7edb9fe77b",
        "IPY_MODEL_d9f45d42e93e4a65b23d8fe9eeff9680"
       ],
       "layout": "IPY_MODEL_546189e2848f4b218d68788c06d6ea85"
      }
     },
     "87443c75233049f2b0d63527c639d788": {
      "model_module": "@jupyter-widgets/base",
      "model_module_version": "1.2.0",
      "model_name": "LayoutModel",
      "state": {}
     },
     "8886b0dda5ea42adb4a2800057aa3b4b": {
      "model_module": "@jupyter-widgets/base",
      "model_module_version": "1.2.0",
      "model_name": "LayoutModel",
      "state": {}
     },
     "8a5088b74cf642f687cf6d1d67cb229a": {
      "model_module": "@jupyter-widgets/base",
      "model_module_version": "1.2.0",
      "model_name": "LayoutModel",
      "state": {}
     },
     "8c5e48995dd2474cb1ac1ca557aee46c": {
      "model_module": "@jupyter-widgets/controls",
      "model_module_version": "1.5.0",
      "model_name": "HTMLModel",
      "state": {
       "layout": "IPY_MODEL_30309ea05c174448943ecb5ba92ae0e5",
       "style": "IPY_MODEL_42c21b2eb4834c7b84838c3831e2f34b",
       "value": " 600/600 [00:17&lt;00:00, 34.84it/s]"
      }
     },
     "8c69ddf36e724015b78f9cc894a6f21f": {
      "model_module": "@jupyter-widgets/controls",
      "model_module_version": "1.5.0",
      "model_name": "ProgressStyleModel",
      "state": {
       "description_width": "initial"
      }
     },
     "8dd74db4495047afa57108a8322cc955": {
      "model_module": "@jupyter-widgets/controls",
      "model_module_version": "1.5.0",
      "model_name": "HTMLModel",
      "state": {
       "layout": "IPY_MODEL_46fbadc7425740fd9a72f8034a4e6753",
       "style": "IPY_MODEL_0dcf2e7c51d04f5da15ede8dd49f0eac",
       "value": " 100/100 [00:02&lt;00:00, 40.64it/s]"
      }
     },
     "8e51c26c3ff44704a9d7a8a1569d80e2": {
      "model_module": "@jupyter-widgets/base",
      "model_module_version": "1.2.0",
      "model_name": "LayoutModel",
      "state": {}
     },
     "9613febf823e490487115eaacc3791a6": {
      "model_module": "@jupyter-widgets/controls",
      "model_module_version": "1.5.0",
      "model_name": "DescriptionStyleModel",
      "state": {
       "description_width": ""
      }
     },
     "96ad99d2f3484aa6a7d5e826b948ad7f": {
      "model_module": "@jupyter-widgets/controls",
      "model_module_version": "1.5.0",
      "model_name": "HTMLModel",
      "state": {
       "layout": "IPY_MODEL_4c2af1030c8246eda9ccc184abd348d1",
       "style": "IPY_MODEL_4f35ff781dcf40c6b03ce427f220dfe4",
       "value": " 100/100 [00:02&lt;00:00, 39.49it/s]"
      }
     },
     "9b3be61161934791a0843b79608a7bac": {
      "model_module": "@jupyter-widgets/controls",
      "model_module_version": "1.5.0",
      "model_name": "ProgressStyleModel",
      "state": {
       "description_width": "initial"
      }
     },
     "9e6e9e41a88c48be86597fd4c6d32411": {
      "model_module": "@jupyter-widgets/controls",
      "model_module_version": "1.5.0",
      "model_name": "HBoxModel",
      "state": {
       "children": [
        "IPY_MODEL_0b90a0686fef47dc8985949c412ebf43",
        "IPY_MODEL_96ad99d2f3484aa6a7d5e826b948ad7f"
       ],
       "layout": "IPY_MODEL_87443c75233049f2b0d63527c639d788"
      }
     },
     "a040d319ed724ba887065525487ff446": {
      "model_module": "@jupyter-widgets/controls",
      "model_module_version": "1.5.0",
      "model_name": "HBoxModel",
      "state": {
       "children": [
        "IPY_MODEL_809bbad7968743fab4783f7d0d36bdf0",
        "IPY_MODEL_703e062492724a06bdf1510053ccbc6a"
       ],
       "layout": "IPY_MODEL_e551461ea6654cfe8133172eff4de7dd"
      }
     },
     "a1599327408f4216a3c7726870784b8a": {
      "model_module": "@jupyter-widgets/controls",
      "model_module_version": "1.5.0",
      "model_name": "HTMLModel",
      "state": {
       "layout": "IPY_MODEL_8a5088b74cf642f687cf6d1d67cb229a",
       "style": "IPY_MODEL_180345d08d3e43fa88bf97bc5cb3f4b1",
       "value": " 600/600 [00:20&lt;00:00, 29.41it/s]"
      }
     },
     "a4d777e8f0994329912efaab8f50d747": {
      "model_module": "@jupyter-widgets/controls",
      "model_module_version": "1.5.0",
      "model_name": "ProgressStyleModel",
      "state": {
       "description_width": "initial"
      }
     },
     "a52554c238f84cefa9e52f4ea05c75e7": {
      "model_module": "@jupyter-widgets/controls",
      "model_module_version": "1.5.0",
      "model_name": "HTMLModel",
      "state": {
       "layout": "IPY_MODEL_c9b74f1c8796436dbe487ebd9e428079",
       "style": "IPY_MODEL_c8e1306d346b4496bae3e5d745db9b7b",
       "value": " 600/600 [00:16&lt;00:00, 35.42it/s]"
      }
     },
     "a52ede1b19f84fa1887ca5c33686b97e": {
      "model_module": "@jupyter-widgets/base",
      "model_module_version": "1.2.0",
      "model_name": "LayoutModel",
      "state": {}
     },
     "a6f0c7ea1aff42cdb9eeab5ac77328be": {
      "model_module": "@jupyter-widgets/controls",
      "model_module_version": "1.5.0",
      "model_name": "DescriptionStyleModel",
      "state": {
       "description_width": ""
      }
     },
     "a8a79b095f874fe0bb8764e960bdbe57": {
      "model_module": "@jupyter-widgets/controls",
      "model_module_version": "1.5.0",
      "model_name": "HTMLModel",
      "state": {
       "layout": "IPY_MODEL_5e838fe82fa549aaab1fde139b26121a",
       "style": "IPY_MODEL_64630cc14f9b474287401e4bac647c22",
       "value": " 100/100 [00:02&lt;00:00, 48.19it/s]"
      }
     },
     "a8abaf603e14436c9556618d0a599e82": {
      "model_module": "@jupyter-widgets/controls",
      "model_module_version": "1.5.0",
      "model_name": "ProgressStyleModel",
      "state": {
       "description_width": "initial"
      }
     },
     "a9cb23521c114698aec111175b0fdded": {
      "model_module": "@jupyter-widgets/controls",
      "model_module_version": "1.5.0",
      "model_name": "HBoxModel",
      "state": {
       "children": [
        "IPY_MODEL_be90841470e448f398c1d84b58b1e5f0",
        "IPY_MODEL_a8a79b095f874fe0bb8764e960bdbe57"
       ],
       "layout": "IPY_MODEL_ede80f846a4a4f21b637697aa2ece42a"
      }
     },
     "a9fc6a779ac44d4293dbc9bb1471128e": {
      "model_module": "@jupyter-widgets/base",
      "model_module_version": "1.2.0",
      "model_name": "LayoutModel",
      "state": {}
     },
     "ab3028b53595467b92c4906fb61ba183": {
      "model_module": "@jupyter-widgets/base",
      "model_module_version": "1.2.0",
      "model_name": "LayoutModel",
      "state": {}
     },
     "acd64aff4bd24ec49aef585414303fab": {
      "model_module": "@jupyter-widgets/controls",
      "model_module_version": "1.5.0",
      "model_name": "DescriptionStyleModel",
      "state": {
       "description_width": ""
      }
     },
     "ad5dee1503b446ddb28cccbf183fc363": {
      "model_module": "@jupyter-widgets/controls",
      "model_module_version": "1.5.0",
      "model_name": "HBoxModel",
      "state": {
       "children": [
        "IPY_MODEL_4bec82b3e28441f78808b30d623eded8",
        "IPY_MODEL_8c5e48995dd2474cb1ac1ca557aee46c"
       ],
       "layout": "IPY_MODEL_75657820ee9648bca89a17c4def23516"
      }
     },
     "ad8cee115d6749df944c36a3564fef46": {
      "model_module": "@jupyter-widgets/controls",
      "model_module_version": "1.5.0",
      "model_name": "DescriptionStyleModel",
      "state": {
       "description_width": ""
      }
     },
     "b0ae3ea99c9849768dbdea29a2c8e13b": {
      "model_module": "@jupyter-widgets/controls",
      "model_module_version": "1.5.0",
      "model_name": "DescriptionStyleModel",
      "state": {
       "description_width": ""
      }
     },
     "b1fa6a5c2a2443f7b0561ad65e10468e": {
      "model_module": "@jupyter-widgets/controls",
      "model_module_version": "1.5.0",
      "model_name": "ProgressStyleModel",
      "state": {
       "description_width": "initial"
      }
     },
     "b29d4784e1194b61851631bbb06c4a32": {
      "model_module": "@jupyter-widgets/base",
      "model_module_version": "1.2.0",
      "model_name": "LayoutModel",
      "state": {}
     },
     "b3c0849c8fbb49b989ca8ac1e00f2ca7": {
      "model_module": "@jupyter-widgets/controls",
      "model_module_version": "1.5.0",
      "model_name": "HBoxModel",
      "state": {
       "children": [
        "IPY_MODEL_312e9fe46c29463999edfd8af1ade5b9",
        "IPY_MODEL_070afb362477408c98244dcab5f6f78d"
       ],
       "layout": "IPY_MODEL_752ef1aef0804eabbe76ba2a4f5a56c8"
      }
     },
     "b914085c48e34577b65a00e1b65949a8": {
      "model_module": "@jupyter-widgets/base",
      "model_module_version": "1.2.0",
      "model_name": "LayoutModel",
      "state": {}
     },
     "bc8f5b6c8f534b79940e05b0bf9a7ba4": {
      "model_module": "@jupyter-widgets/controls",
      "model_module_version": "1.5.0",
      "model_name": "ProgressStyleModel",
      "state": {
       "description_width": "initial"
      }
     },
     "be90841470e448f398c1d84b58b1e5f0": {
      "model_module": "@jupyter-widgets/controls",
      "model_module_version": "1.5.0",
      "model_name": "IntProgressModel",
      "state": {
       "bar_style": "success",
       "description": "100%",
       "layout": "IPY_MODEL_b914085c48e34577b65a00e1b65949a8",
       "style": "IPY_MODEL_759a293be651417982a43ab19f7ef9be",
       "value": 100
      }
     },
     "bfb0ba4f81f14080b9924db914dcf40c": {
      "model_module": "@jupyter-widgets/controls",
      "model_module_version": "1.5.0",
      "model_name": "HTMLModel",
      "state": {
       "layout": "IPY_MODEL_83e68222f60c48dca841c8836e582553",
       "style": "IPY_MODEL_7813e38f58f242f5868953bd4c8003fc",
       "value": " 600/600 [00:20&lt;00:00, 29.87it/s]"
      }
     },
     "c0971f8cf1284aaca0068c0b57d6cab0": {
      "model_module": "@jupyter-widgets/base",
      "model_module_version": "1.2.0",
      "model_name": "LayoutModel",
      "state": {}
     },
     "c2890ce3286f4f73af27b73b3bfbeb66": {
      "model_module": "@jupyter-widgets/controls",
      "model_module_version": "1.5.0",
      "model_name": "HBoxModel",
      "state": {
       "children": [
        "IPY_MODEL_79ef0f8bd70f4164a11f0afe3ec669c2",
        "IPY_MODEL_a1599327408f4216a3c7726870784b8a"
       ],
       "layout": "IPY_MODEL_caead25870804f11aa1e279e7d4b9603"
      }
     },
     "c8253a11811f4b0cbc812051b6de6f6e": {
      "model_module": "@jupyter-widgets/base",
      "model_module_version": "1.2.0",
      "model_name": "LayoutModel",
      "state": {}
     },
     "c8561fa56818435f94707ee41181197c": {
      "model_module": "@jupyter-widgets/controls",
      "model_module_version": "1.5.0",
      "model_name": "ProgressStyleModel",
      "state": {
       "description_width": "initial"
      }
     },
     "c8e1306d346b4496bae3e5d745db9b7b": {
      "model_module": "@jupyter-widgets/controls",
      "model_module_version": "1.5.0",
      "model_name": "DescriptionStyleModel",
      "state": {
       "description_width": ""
      }
     },
     "c93a4f2634ab4334a9bc86f864ec9d03": {
      "model_module": "@jupyter-widgets/base",
      "model_module_version": "1.2.0",
      "model_name": "LayoutModel",
      "state": {}
     },
     "c9b74f1c8796436dbe487ebd9e428079": {
      "model_module": "@jupyter-widgets/base",
      "model_module_version": "1.2.0",
      "model_name": "LayoutModel",
      "state": {}
     },
     "cabcc13852074e07a8d322cd99f24e5e": {
      "model_module": "@jupyter-widgets/controls",
      "model_module_version": "1.5.0",
      "model_name": "ProgressStyleModel",
      "state": {
       "description_width": "initial"
      }
     },
     "caead25870804f11aa1e279e7d4b9603": {
      "model_module": "@jupyter-widgets/base",
      "model_module_version": "1.2.0",
      "model_name": "LayoutModel",
      "state": {}
     },
     "cbc29e26fbbd461ab309214dac56a9ce": {
      "model_module": "@jupyter-widgets/base",
      "model_module_version": "1.2.0",
      "model_name": "LayoutModel",
      "state": {}
     },
     "cd44a9cf38fa4433a0662235ebd1a5f0": {
      "model_module": "@jupyter-widgets/base",
      "model_module_version": "1.2.0",
      "model_name": "LayoutModel",
      "state": {}
     },
     "cd4ee4fec9a845c3a17cbc5516345a56": {
      "model_module": "@jupyter-widgets/controls",
      "model_module_version": "1.5.0",
      "model_name": "IntProgressModel",
      "state": {
       "bar_style": "success",
       "description": "100%",
       "layout": "IPY_MODEL_f0ad882691bd4012aa89810f86c52621",
       "max": 600,
       "style": "IPY_MODEL_1cb1d5db956f4c1599f362159649c5cb",
       "value": 600
      }
     },
     "d045ee6e5ade4f938d6b76862ca5dc33": {
      "model_module": "@jupyter-widgets/base",
      "model_module_version": "1.2.0",
      "model_name": "LayoutModel",
      "state": {}
     },
     "d0ba99eac67041c2a449a80b71e1a0a5": {
      "model_module": "@jupyter-widgets/base",
      "model_module_version": "1.2.0",
      "model_name": "LayoutModel",
      "state": {}
     },
     "d1901b27e0554752ae4addf37d4acfd4": {
      "model_module": "@jupyter-widgets/base",
      "model_module_version": "1.2.0",
      "model_name": "LayoutModel",
      "state": {}
     },
     "d1e25145f12b42a3be57a6aace611870": {
      "model_module": "@jupyter-widgets/controls",
      "model_module_version": "1.5.0",
      "model_name": "HTMLModel",
      "state": {
       "layout": "IPY_MODEL_4ed8e96625e24a919dcdc548e12086e9",
       "style": "IPY_MODEL_0b73de309f0e4622960445b5e67b0f23",
       "value": " 600/600 [00:19&lt;00:00, 31.36it/s]"
      }
     },
     "d291924bdbb349e69a084d7d91c76ebe": {
      "model_module": "@jupyter-widgets/controls",
      "model_module_version": "1.5.0",
      "model_name": "HTMLModel",
      "state": {
       "layout": "IPY_MODEL_00ab3361f9b948b48b0976623b0a83a7",
       "style": "IPY_MODEL_7953b46a197646e085cd429c4777ec30",
       "value": " 100/100 [00:02&lt;00:00, 39.69it/s]"
      }
     },
     "d3440bde35cd4306b00d651fb9606e47": {
      "model_module": "@jupyter-widgets/controls",
      "model_module_version": "1.5.0",
      "model_name": "DescriptionStyleModel",
      "state": {
       "description_width": ""
      }
     },
     "d393ae32b0a94f1d8591995c66f71243": {
      "model_module": "@jupyter-widgets/controls",
      "model_module_version": "1.5.0",
      "model_name": "HTMLModel",
      "state": {
       "layout": "IPY_MODEL_a9fc6a779ac44d4293dbc9bb1471128e",
       "style": "IPY_MODEL_b0ae3ea99c9849768dbdea29a2c8e13b",
       "value": " 600/600 [00:19&lt;00:00, 30.64it/s]"
      }
     },
     "d47fa458994a4c2d9922b6daf4779539": {
      "model_module": "@jupyter-widgets/controls",
      "model_module_version": "1.5.0",
      "model_name": "ProgressStyleModel",
      "state": {
       "description_width": "initial"
      }
     },
     "d89d4ffb0770466292129554c7369cae": {
      "model_module": "@jupyter-widgets/controls",
      "model_module_version": "1.5.0",
      "model_name": "IntProgressModel",
      "state": {
       "bar_style": "success",
       "description": "100%",
       "layout": "IPY_MODEL_7e2a7cb7b012443d80dd1e19e3f9934e",
       "style": "IPY_MODEL_25f6dea15b0448fd941133106d8d1d37",
       "value": 100
      }
     },
     "d9f45d42e93e4a65b23d8fe9eeff9680": {
      "model_module": "@jupyter-widgets/controls",
      "model_module_version": "1.5.0",
      "model_name": "HTMLModel",
      "state": {
       "layout": "IPY_MODEL_5ebf9c13b75741a3950b6461bee442af",
       "style": "IPY_MODEL_d3440bde35cd4306b00d651fb9606e47",
       "value": " 600/600 [00:20&lt;00:00, 28.95it/s]"
      }
     },
     "da6915df7a4e4525a369586d4e45111a": {
      "model_module": "@jupyter-widgets/controls",
      "model_module_version": "1.5.0",
      "model_name": "ProgressStyleModel",
      "state": {
       "description_width": "initial"
      }
     },
     "db35d1a9069a4d86b37b3f3d85ff05f5": {
      "model_module": "@jupyter-widgets/controls",
      "model_module_version": "1.5.0",
      "model_name": "HTMLModel",
      "state": {
       "layout": "IPY_MODEL_cd44a9cf38fa4433a0662235ebd1a5f0",
       "style": "IPY_MODEL_a6f0c7ea1aff42cdb9eeab5ac77328be",
       "value": " 600/600 [00:20&lt;00:00, 29.41it/s]"
      }
     },
     "dc1ec29fb4054067a283cc37d19debeb": {
      "model_module": "@jupyter-widgets/controls",
      "model_module_version": "1.5.0",
      "model_name": "HBoxModel",
      "state": {
       "children": [
        "IPY_MODEL_6ad9032d612f454b85321ed603ca3815",
        "IPY_MODEL_4112ba3474384d839e66ffaaab8f2355"
       ],
       "layout": "IPY_MODEL_df2f1c9f45dd4974bc218e0f571b020c"
      }
     },
     "dd2b6ac6de5a4907bde927b72e888208": {
      "model_module": "@jupyter-widgets/controls",
      "model_module_version": "1.5.0",
      "model_name": "HTMLModel",
      "state": {
       "layout": "IPY_MODEL_d045ee6e5ade4f938d6b76862ca5dc33",
       "style": "IPY_MODEL_3bf1ea9535ad49c189eafc90c872c079",
       "value": " 100/100 [00:02&lt;00:00, 34.76it/s]"
      }
     },
     "de4d634ca87f438e9c4aaf69072cb2e1": {
      "model_module": "@jupyter-widgets/controls",
      "model_module_version": "1.5.0",
      "model_name": "IntProgressModel",
      "state": {
       "bar_style": "success",
       "description": "100%",
       "layout": "IPY_MODEL_6d69e250974440d2aaa5d90d5371c959",
       "max": 600,
       "style": "IPY_MODEL_c8561fa56818435f94707ee41181197c",
       "value": 600
      }
     },
     "df2f1c9f45dd4974bc218e0f571b020c": {
      "model_module": "@jupyter-widgets/base",
      "model_module_version": "1.2.0",
      "model_name": "LayoutModel",
      "state": {}
     },
     "dfbdeaf4bae14bde9dca3e0d579bafad": {
      "model_module": "@jupyter-widgets/base",
      "model_module_version": "1.2.0",
      "model_name": "LayoutModel",
      "state": {}
     },
     "e01fab92b3e94bc6992d25581ab86245": {
      "model_module": "@jupyter-widgets/controls",
      "model_module_version": "1.5.0",
      "model_name": "HBoxModel",
      "state": {
       "children": [
        "IPY_MODEL_f1dcaff9e6d34c208aa3601a740471e1",
        "IPY_MODEL_8dd74db4495047afa57108a8322cc955"
       ],
       "layout": "IPY_MODEL_d1901b27e0554752ae4addf37d4acfd4"
      }
     },
     "e085bf0edc8f405ea1e200394a2d699d": {
      "model_module": "@jupyter-widgets/controls",
      "model_module_version": "1.5.0",
      "model_name": "HBoxModel",
      "state": {
       "children": [
        "IPY_MODEL_6dd5a25c673f4a4faf8c7d0b2e398abf",
        "IPY_MODEL_709f252ba28243698ffde792b2b7297c"
       ],
       "layout": "IPY_MODEL_13366e3937e24dc4bf9254771e0ac514"
      }
     },
     "e1d28e912a1d40d8890d9946c1f86981": {
      "model_module": "@jupyter-widgets/base",
      "model_module_version": "1.2.0",
      "model_name": "LayoutModel",
      "state": {}
     },
     "e28d4876f752451a8d81c93b107bbcd3": {
      "model_module": "@jupyter-widgets/base",
      "model_module_version": "1.2.0",
      "model_name": "LayoutModel",
      "state": {}
     },
     "e2ee4488d9fb48949fa658478b188d8a": {
      "model_module": "@jupyter-widgets/controls",
      "model_module_version": "1.5.0",
      "model_name": "FloatProgressModel",
      "state": {
       "bar_style": "success",
       "description": "100%",
       "layout": "IPY_MODEL_d0ba99eac67041c2a449a80b71e1a0a5",
       "max": 600,
       "style": "IPY_MODEL_9b3be61161934791a0843b79608a7bac",
       "value": 600
      }
     },
     "e3e090911b134c2f9f59b1f8cdddcf4b": {
      "model_module": "@jupyter-widgets/base",
      "model_module_version": "1.2.0",
      "model_name": "LayoutModel",
      "state": {}
     },
     "e551461ea6654cfe8133172eff4de7dd": {
      "model_module": "@jupyter-widgets/base",
      "model_module_version": "1.2.0",
      "model_name": "LayoutModel",
      "state": {}
     },
     "e5bb8e91222b466791970de816a0187b": {
      "model_module": "@jupyter-widgets/base",
      "model_module_version": "1.2.0",
      "model_name": "LayoutModel",
      "state": {}
     },
     "e988071311e640fd84d509864d1c64b6": {
      "model_module": "@jupyter-widgets/controls",
      "model_module_version": "1.5.0",
      "model_name": "ProgressStyleModel",
      "state": {
       "description_width": "initial"
      }
     },
     "ed8e61c1bb23474d90831e61954f4985": {
      "model_module": "@jupyter-widgets/controls",
      "model_module_version": "1.5.0",
      "model_name": "DescriptionStyleModel",
      "state": {
       "description_width": ""
      }
     },
     "ede80f846a4a4f21b637697aa2ece42a": {
      "model_module": "@jupyter-widgets/base",
      "model_module_version": "1.2.0",
      "model_name": "LayoutModel",
      "state": {}
     },
     "ee0d392ddfec4748b5b2926f1ffcc739": {
      "model_module": "@jupyter-widgets/controls",
      "model_module_version": "1.5.0",
      "model_name": "HBoxModel",
      "state": {
       "children": [
        "IPY_MODEL_33724df2f1a3433bbb26aa18bc88b126",
        "IPY_MODEL_3877f7bc979a4999a78e0ca12a2efd2f"
       ],
       "layout": "IPY_MODEL_71f74cf044db43979c7a297ff8be572e"
      }
     },
     "ee64dbf4666c4ca790c82b352e2bd3dc": {
      "model_module": "@jupyter-widgets/base",
      "model_module_version": "1.2.0",
      "model_name": "LayoutModel",
      "state": {}
     },
     "eef6e87e976447aea9d6ec869e115173": {
      "model_module": "@jupyter-widgets/base",
      "model_module_version": "1.2.0",
      "model_name": "LayoutModel",
      "state": {}
     },
     "ef59d86997614b18a8c1311689822f03": {
      "model_module": "@jupyter-widgets/base",
      "model_module_version": "1.2.0",
      "model_name": "LayoutModel",
      "state": {}
     },
     "efd0d8f6ffee421b9c372c76ed9ef1a8": {
      "model_module": "@jupyter-widgets/controls",
      "model_module_version": "1.5.0",
      "model_name": "HTMLModel",
      "state": {
       "layout": "IPY_MODEL_1110c89bcb7948b8a4081f188c8f053f",
       "style": "IPY_MODEL_03770380477d40069927db8dba2ecc34",
       "value": " 100/100 [00:03&lt;00:00, 29.83it/s]"
      }
     },
     "f045f24016f5412696ccd4d42d3ac4a6": {
      "model_module": "@jupyter-widgets/base",
      "model_module_version": "1.2.0",
      "model_name": "LayoutModel",
      "state": {}
     },
     "f0874107f14b455ca59d0efd8bea5db1": {
      "model_module": "@jupyter-widgets/base",
      "model_module_version": "1.2.0",
      "model_name": "LayoutModel",
      "state": {}
     },
     "f0ad882691bd4012aa89810f86c52621": {
      "model_module": "@jupyter-widgets/base",
      "model_module_version": "1.2.0",
      "model_name": "LayoutModel",
      "state": {}
     },
     "f1dcaff9e6d34c208aa3601a740471e1": {
      "model_module": "@jupyter-widgets/controls",
      "model_module_version": "1.5.0",
      "model_name": "IntProgressModel",
      "state": {
       "bar_style": "success",
       "description": "100%",
       "layout": "IPY_MODEL_8e51c26c3ff44704a9d7a8a1569d80e2",
       "style": "IPY_MODEL_08127475b3c0456db3db286c913b7271",
       "value": 100
      }
     },
     "f3149d5c75fa45999c4797beb1efb134": {
      "model_module": "@jupyter-widgets/controls",
      "model_module_version": "1.5.0",
      "model_name": "IntProgressModel",
      "state": {
       "bar_style": "success",
       "description": "100%",
       "layout": "IPY_MODEL_64777a4ec2d0417a949bba49edaedd94",
       "style": "IPY_MODEL_8c69ddf36e724015b78f9cc894a6f21f",
       "value": 100
      }
     },
     "f65f7b566392443eab4238881599bb42": {
      "model_module": "@jupyter-widgets/base",
      "model_module_version": "1.2.0",
      "model_name": "LayoutModel",
      "state": {}
     },
     "f8d0a0172da942d0bf4db39113cfef42": {
      "model_module": "@jupyter-widgets/base",
      "model_module_version": "1.2.0",
      "model_name": "LayoutModel",
      "state": {}
     },
     "fb696dfe7bae4a00b375d9c7c6053293": {
      "model_module": "@jupyter-widgets/base",
      "model_module_version": "1.2.0",
      "model_name": "LayoutModel",
      "state": {}
     },
     "fb6e26311b32443391e4a1ce19de0678": {
      "model_module": "@jupyter-widgets/base",
      "model_module_version": "1.2.0",
      "model_name": "LayoutModel",
      "state": {}
     },
     "fd0373f64152443cb49b3cfe0bdaea65": {
      "model_module": "@jupyter-widgets/controls",
      "model_module_version": "1.5.0",
      "model_name": "HBoxModel",
      "state": {
       "children": [
        "IPY_MODEL_e2ee4488d9fb48949fa658478b188d8a",
        "IPY_MODEL_db35d1a9069a4d86b37b3f3d85ff05f5"
       ],
       "layout": "IPY_MODEL_45759a4191104054b18f78f161e4114b"
      }
     },
     "ffeae8ce8dde457eb2ba3ec954e2216e": {
      "model_module": "@jupyter-widgets/controls",
      "model_module_version": "1.5.0",
      "model_name": "IntProgressModel",
      "state": {
       "bar_style": "success",
       "description": "100%",
       "layout": "IPY_MODEL_c8253a11811f4b0cbc812051b6de6f6e",
       "max": 600,
       "style": "IPY_MODEL_bc8f5b6c8f534b79940e05b0bf9a7ba4",
       "value": 600
      }
     }
    },
    "version_major": 2,
    "version_minor": 0
   }
  }
 },
 "nbformat": 4,
 "nbformat_minor": 2
}
